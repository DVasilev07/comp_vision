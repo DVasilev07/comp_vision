{
 "cells": [
  {
   "cell_type": "code",
   "execution_count": 1,
   "metadata": {},
   "outputs": [],
   "source": [
    "import torch\n",
    "import torchvision\n",
    "from torchvision import models\n",
    "import torchvision.transforms as T\n",
    "import PIL\n",
    "from PIL import Image\n",
    "import numpy as np"
   ]
  },
  {
   "cell_type": "code",
   "execution_count": 2,
   "metadata": {},
   "outputs": [],
   "source": [
    "# 4 cpu to use\n",
    "torch.set_num_threads(4)"
   ]
  },
  {
   "cell_type": "code",
   "execution_count": 3,
   "metadata": {},
   "outputs": [],
   "source": [
    "#fasterrcnn_resnet50_fpn\n",
    "model = torchvision.models.detection.fasterrcnn_resnet50_fpn(pretrained=True)\n",
    "model.eval()\n",
    "\n",
    "COCO_INSTANCE_CATEGORY_NAMES = [\n",
    "    '__background__', 'person', 'bicycle', 'car', 'motorcycle', 'airplane', 'bus',\n",
    "    'train', 'truck', 'boat', 'traffic light', 'fire hydrant', 'N/A', 'stop sign',\n",
    "    'parking meter', 'bench', 'bird', 'cat', 'dog', 'horse', 'sheep', 'cow',\n",
    "    'elephant', 'bear', 'zebra', 'giraffe', 'N/A', 'backpack', 'umbrella', 'N/A', 'N/A',\n",
    "    'handbag', 'tie', 'suitcase', 'frisbee', 'skis', 'snowboard', 'sports ball',\n",
    "    'kite', 'baseball bat', 'baseball glove', 'skateboard', 'surfboard', 'tennis racket',\n",
    "    'bottle', 'N/A', 'wine glass', 'cup', 'fork', 'knife', 'spoon', 'bowl',\n",
    "    'banana', 'apple', 'sandwich', 'orange', 'broccoli', 'carrot', 'hot dog', 'pizza',\n",
    "    'donut', 'cake', 'chair', 'couch', 'potted plant', 'bed', 'N/A', 'dining table',\n",
    "    'N/A', 'N/A', 'toilet', 'N/A', 'tv', 'laptop', 'mouse', 'remote', 'keyboard', 'cell phone',\n",
    "    'microwave', 'oven', 'toaster', 'sink', 'refrigerator', 'N/A', 'book',\n",
    "    'clock', 'vase', 'scissors', 'teddy bear', 'hair drier', 'toothbrush'\n",
    "]"
   ]
  },
  {
   "cell_type": "code",
   "execution_count": 4,
   "metadata": {},
   "outputs": [],
   "source": [
    "def my_get_prediction(img_path, threshold):\n",
    "    #prepare\n",
    "    img = Image.open(img_path)\n",
    "    transform = T.Compose([T.Resize(size=(224,224)), T.ToTensor()])\n",
    "    img = transform(img)\n",
    "    if img.size()[0] > 3:\n",
    "        img = img[0:3]\n",
    "    #inference\n",
    "    pred = model([img])\n",
    "    pred_score = list(pred[0]['scores'].detach().numpy())\n",
    "    pred_class_num = list(pred[0]['labels'].detach().numpy())\n",
    "    idx_res = [pred_score.index(x) for x in pred_score if x>threshold]\n",
    "\n",
    "    ### empty output\n",
    "    if idx_res.count(0) == 0:\n",
    "        pred_score = [1]\n",
    "        pred_class_num = [999]\n",
    "    else:\n",
    "        pred_class_num = pred_class_num[:len(idx_res)]\n",
    "        pred_score = pred_score[:len(idx_res)]\n",
    "    return pred_class_num, pred_score\n",
    "\n",
    "def my_get_prediction_person(img_path, threshold, threshold_pers):\n",
    "    pred_class_num, pred_score = my_get_prediction(img_path, threshold)\n",
    "    output = []\n",
    "    # unique class\n",
    "    for class_num in pred_class_num:\n",
    "        if class_num not in output:\n",
    "            output.append(class_num)\n",
    "    ### person\n",
    "    person = 0\n",
    "    indx_list = []\n",
    "    indx_list = [i for i, x in enumerate(pred_class_num) if x == 1] \n",
    "    for indx in indx_list:\n",
    "        if pred_score[indx] > threshold_pers:\n",
    "            person += 1\n",
    "    \n",
    "    ### unique class with treshold < 5 and person is ok\n",
    "    if (len(output) < 5) and (person > 0) :\n",
    "        prediction = 1\n",
    "    else:\n",
    "        prediction = 0\n",
    "        \n",
    "    return prediction\n",
    "\n"
   ]
  },
  {
   "cell_type": "markdown",
   "metadata": {},
   "source": [
    "### To prod use my_get_prediction_person with threshold=0.2 , threshold_pers = 0.95"
   ]
  },
  {
   "cell_type": "markdown",
   "metadata": {},
   "source": [
    "### Some tests"
   ]
  },
  {
   "cell_type": "code",
   "execution_count": 15,
   "metadata": {},
   "outputs": [
    {
     "data": {
      "text/plain": [
       "1"
      ]
     },
     "execution_count": 15,
     "metadata": {},
     "output_type": "execute_result"
    }
   ],
   "source": [
    "#%%time\n",
    "my_get_prediction_person('./1492252053_w640_h640_kukla-ken-barbi.jpg', threshold=0.2, threshold_pers = 0.95)\n",
    "#my_get_prediction_person('./яхта.jpg', threshold=0.2, threshold_pers = 0.95)"
   ]
  },
  {
   "cell_type": "code",
   "execution_count": null,
   "metadata": {},
   "outputs": [],
   "source": []
  }
 ],
 "metadata": {
  "kernelspec": {
   "display_name": "Python 3",
   "language": "python",
   "name": "python3"
  },
  "language_info": {
   "codemirror_mode": {
    "name": "ipython",
    "version": 3
   },
   "file_extension": ".py",
   "mimetype": "text/x-python",
   "name": "python",
   "nbconvert_exporter": "python",
   "pygments_lexer": "ipython3",
   "version": "3.7.4"
  }
 },
 "nbformat": 4,
 "nbformat_minor": 2
}
