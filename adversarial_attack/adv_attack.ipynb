{
 "cells": [
  {
   "cell_type": "code",
   "execution_count": 199,
   "metadata": {},
   "outputs": [],
   "source": [
    "import torch\n",
    "import torch.nn as nn\n",
    "import torch.nn.functional as F\n",
    "import torch.optim as optim\n",
    "import torchvision\n",
    "from torchvision import datasets, transforms\n",
    "\n",
    "from utils import mnist, plot_graphs, plot_mnist, mnist_transform\n",
    "import numpy as np\n",
    "\n",
    "%matplotlib inline"
   ]
  },
  {
   "cell_type": "code",
   "execution_count": 200,
   "metadata": {},
   "outputs": [],
   "source": [
    "import matplotlib\n",
    "import matplotlib.pyplot as plt\n",
    "import numpy as np\n",
    "%matplotlib inline"
   ]
  },
  {
   "cell_type": "code",
   "execution_count": 201,
   "metadata": {},
   "outputs": [],
   "source": [
    "train_loader, valid_loader, test_loader = mnist(valid=10000, transform=transforms.ToTensor())"
   ]
  },
  {
   "cell_type": "code",
   "execution_count": 202,
   "metadata": {},
   "outputs": [],
   "source": [
    "class ConvLayer(nn.Module):\n",
    "    def __init__(self, size, padding=1, pool_layer=nn.MaxPool2d(2, stride=2),\n",
    "                 bn=False, dropout=False, activation_fn=nn.ReLU()):\n",
    "        super(ConvLayer, self).__init__()\n",
    "        layers = []\n",
    "        layers.append(nn.Conv2d(size[0], size[1], size[2], padding=padding))\n",
    "        if pool_layer is not None:\n",
    "            layers.append(pool_layer)\n",
    "        if bn:\n",
    "            layers.append(nn.BatchNorm2d(size[1]))\n",
    "        if dropout:\n",
    "            layers.append(nn.Dropout2d())\n",
    "        layers.append(activation_fn)\n",
    "        \n",
    "        self.model = nn.Sequential(*layers)\n",
    "    \n",
    "    def forward(self, x):\n",
    "        return self.model(x)"
   ]
  },
  {
   "cell_type": "code",
   "execution_count": 203,
   "metadata": {},
   "outputs": [],
   "source": [
    "class FullyConnected(nn.Module):\n",
    "    def __init__(self, sizes, dropout=False, activation_fn=nn.Tanh):\n",
    "        super(FullyConnected, self).__init__()\n",
    "        layers = []\n",
    "        \n",
    "        for i in range(len(sizes) - 2):\n",
    "            layers.append(nn.Linear(sizes[i], sizes[i+1]))\n",
    "            if dropout:\n",
    "                layers.append(nn.Dropout())\n",
    "            layers.append(activation_fn())\n",
    "        else: # нам не нужен дропаут и фнкция активации в последнем слое\n",
    "            layers.append(nn.Linear(sizes[-2], sizes[-1]))\n",
    "        \n",
    "        self.model = nn.Sequential(*layers)\n",
    "        \n",
    "    def forward(self, x):\n",
    "        return self.model(x)"
   ]
  },
  {
   "cell_type": "code",
   "execution_count": 204,
   "metadata": {},
   "outputs": [],
   "source": [
    "class Net(nn.Module):\n",
    "    def __init__(self, batchnorm=False, dropout=False, lr=1e-4, l2=0.):\n",
    "        super(Net, self).__init__()\n",
    "        \n",
    "        \n",
    "        self._conv1 = ConvLayer([1, 16, 3], bn=batchnorm)\n",
    "        self._conv2 = ConvLayer([16, 32, 3], bn=batchnorm, activation_fn=nn.Sigmoid())\n",
    "        \n",
    "        self.fc = FullyConnected([32*7*7, 10], dropout=dropout, activation_fn =nn.Sigmoid() )\n",
    "        \n",
    "        self._loss = None\n",
    "        self.optim = optim.Adam(self.parameters(), lr=lr, weight_decay=l2)\n",
    "    \n",
    "    def conv(self, x):\n",
    "        x = self._conv1(x)\n",
    "        x = self._conv2(x)\n",
    "        return x\n",
    "    \n",
    "\n",
    "        \n",
    "    def forward(self, x):\n",
    "        x = self.conv(x)\n",
    "        x = x.view(-1, 32*7*7)\n",
    "        x = self.fc(x)\n",
    "        return x\n",
    "    \n",
    "    def loss(self, output, target, **kwargs):\n",
    "        self._loss = F.cross_entropy(output, target, **kwargs)\n",
    "        self._correct = output.data.max(1, keepdim=True)[1]\n",
    "        self._correct = self._correct.eq(target.data.view_as(self._correct)).to(torch.float).cpu().mean()\n",
    "        return self._loss"
   ]
  },
  {
   "cell_type": "code",
   "execution_count": 205,
   "metadata": {},
   "outputs": [],
   "source": [
    "#models = {'bn': Net(True), 'drop': Net(False, True), 'plain': Net()}\n",
    "models = {'bn': Net(True)}\n",
    "train_log = {k: [] for k in models}\n",
    "test_log = {k: [] for k in models}"
   ]
  },
  {
   "cell_type": "code",
   "execution_count": 206,
   "metadata": {},
   "outputs": [],
   "source": [
    "def train(epoch, models, log=None):\n",
    "    train_size = len(train_loader.sampler)\n",
    "    for batch_idx, (data, target) in enumerate(train_loader):\n",
    "        for model in models.values():\n",
    "            model.optim.zero_grad()\n",
    "            output = model(data)\n",
    "            loss = model.loss(output, target)\n",
    "            loss.backward()\n",
    "            model.optim.step()\n",
    "            \n",
    "        if batch_idx % 200 == 0:\n",
    "            line = 'Train Epoch: {} [{}/{} ({:.0f}%)]\\tLosses '.format(\n",
    "                epoch, batch_idx * len(data), train_size, 100. * batch_idx / len(train_loader))\n",
    "            losses = ' '.join(['{}: {:.6f}'.format(k, m._loss.item()) for k, m in models.items()])\n",
    "            print(line + losses)\n",
    "            \n",
    "    else:\n",
    "        batch_idx += 1\n",
    "        line = 'Train Epoch: {} [{}/{} ({:.0f}%)]\\tLosses '.format(\n",
    "            epoch, batch_idx * len(data), train_size, 100. * batch_idx / len(train_loader))\n",
    "        losses = ' '.join(['{}: {:.6f}'.format(k, m._loss.item()) for k, m in models.items()])\n",
    "        if log is not None:\n",
    "            for k in models:\n",
    "                log[k].append((models[k]._loss, models[k]._correct))\n",
    "        print(line + losses)"
   ]
  },
  {
   "cell_type": "code",
   "execution_count": 207,
   "metadata": {},
   "outputs": [],
   "source": [
    "def test(models, loader, log=None):\n",
    "    test_size = len(loader.sampler)\n",
    "    avg_lambda = lambda l: 'Loss: {:.4f}'.format(l)\n",
    "    acc_lambda = lambda c, p: 'Accuracy: {}/{} ({:.0f}%)'.format(c, test_size, p)\n",
    "    line = lambda i, l, c, p: '{}: '.format(i) + avg_lambda(l) + '\\t' + acc_lambda(c, p)\n",
    "\n",
    "    test_loss = {k: 0. for k in models}\n",
    "    correct = {k: 0. for k in models}\n",
    "    with torch.no_grad():\n",
    "        for data, target in loader:\n",
    "            output = {k: m(data) for k, m in models.items()}\n",
    "            for k, m in models.items():\n",
    "                test_loss[k] += m.loss(output[k], target, reduction='sum').item() # sum up batch loss\n",
    "                pred = output[k].data.max(1, keepdim=True)[1] # get the index of the max log-probability\n",
    "                correct[k] += pred.eq(target.data.view_as(pred)).cpu().sum().item()\n",
    "    \n",
    "    for k in models:\n",
    "        test_loss[k] /= test_size\n",
    "    correct_pct = {k: c / test_size for k, c in correct.items()}\n",
    "    lines = '\\n'.join([line(k, test_loss[k], correct[k], 100*correct_pct[k]) for k in models]) + '\\n'\n",
    "    report = 'Test set:\\n' + lines\n",
    "    if log is not None:\n",
    "        for k in models:\n",
    "            log[k].append((test_loss[k], correct_pct[k]))\n",
    "    print(report)"
   ]
  },
  {
   "cell_type": "code",
   "execution_count": 208,
   "metadata": {},
   "outputs": [
    {
     "name": "stdout",
     "output_type": "stream",
     "text": [
      "Train Epoch: 1 [0/50000 (0%)]\tLosses bn: 2.309396\n",
      "Train Epoch: 1 [10000/50000 (20%)]\tLosses bn: 1.975261\n",
      "Train Epoch: 1 [20000/50000 (40%)]\tLosses bn: 1.572145\n",
      "Train Epoch: 1 [30000/50000 (60%)]\tLosses bn: 1.201777\n",
      "Train Epoch: 1 [40000/50000 (80%)]\tLosses bn: 1.051271\n",
      "Train Epoch: 1 [50000/50000 (100%)]\tLosses bn: 0.859612\n",
      "Test set:\n",
      "bn: Loss: 0.8115\tAccuracy: 9181.0/10000 (92%)\n",
      "\n",
      "Train Epoch: 2 [0/50000 (0%)]\tLosses bn: 0.703661\n",
      "Train Epoch: 2 [10000/50000 (20%)]\tLosses bn: 0.682641\n",
      "Train Epoch: 2 [20000/50000 (40%)]\tLosses bn: 0.553338\n",
      "Train Epoch: 2 [30000/50000 (60%)]\tLosses bn: 0.443059\n",
      "Train Epoch: 2 [40000/50000 (80%)]\tLosses bn: 0.525140\n",
      "Train Epoch: 2 [50000/50000 (100%)]\tLosses bn: 0.338863\n",
      "Test set:\n",
      "bn: Loss: 0.3631\tAccuracy: 9452.0/10000 (95%)\n",
      "\n",
      "Train Epoch: 3 [0/50000 (0%)]\tLosses bn: 0.376944\n",
      "Train Epoch: 3 [10000/50000 (20%)]\tLosses bn: 0.289373\n",
      "Train Epoch: 3 [20000/50000 (40%)]\tLosses bn: 0.239242\n",
      "Train Epoch: 3 [30000/50000 (60%)]\tLosses bn: 0.220024\n",
      "Train Epoch: 3 [40000/50000 (80%)]\tLosses bn: 0.390887\n",
      "Train Epoch: 3 [50000/50000 (100%)]\tLosses bn: 0.266725\n",
      "Test set:\n",
      "bn: Loss: 0.2318\tAccuracy: 9584.0/10000 (96%)\n",
      "\n",
      "Train Epoch: 4 [0/50000 (0%)]\tLosses bn: 0.218765\n",
      "Train Epoch: 4 [10000/50000 (20%)]\tLosses bn: 0.123874\n",
      "Train Epoch: 4 [20000/50000 (40%)]\tLosses bn: 0.234903\n",
      "Train Epoch: 4 [30000/50000 (60%)]\tLosses bn: 0.219584\n",
      "Train Epoch: 4 [40000/50000 (80%)]\tLosses bn: 0.108418\n",
      "Train Epoch: 4 [50000/50000 (100%)]\tLosses bn: 0.287584\n",
      "Test set:\n",
      "bn: Loss: 0.1711\tAccuracy: 9648.0/10000 (96%)\n",
      "\n",
      "Train Epoch: 5 [0/50000 (0%)]\tLosses bn: 0.104125\n",
      "Train Epoch: 5 [10000/50000 (20%)]\tLosses bn: 0.149975\n",
      "Train Epoch: 5 [20000/50000 (40%)]\tLosses bn: 0.203980\n",
      "Train Epoch: 5 [30000/50000 (60%)]\tLosses bn: 0.164868\n",
      "Train Epoch: 5 [40000/50000 (80%)]\tLosses bn: 0.116803\n",
      "Train Epoch: 5 [50000/50000 (100%)]\tLosses bn: 0.156416\n",
      "Test set:\n",
      "bn: Loss: 0.1367\tAccuracy: 9701.0/10000 (97%)\n",
      "\n",
      "Train Epoch: 6 [0/50000 (0%)]\tLosses bn: 0.124652\n",
      "Train Epoch: 6 [10000/50000 (20%)]\tLosses bn: 0.159371\n",
      "Train Epoch: 6 [20000/50000 (40%)]\tLosses bn: 0.205359\n",
      "Train Epoch: 6 [30000/50000 (60%)]\tLosses bn: 0.316228\n",
      "Train Epoch: 6 [40000/50000 (80%)]\tLosses bn: 0.096691\n",
      "Train Epoch: 6 [50000/50000 (100%)]\tLosses bn: 0.078095\n",
      "Test set:\n",
      "bn: Loss: 0.1140\tAccuracy: 9740.0/10000 (97%)\n",
      "\n",
      "Train Epoch: 7 [0/50000 (0%)]\tLosses bn: 0.127452\n",
      "Train Epoch: 7 [10000/50000 (20%)]\tLosses bn: 0.253792\n",
      "Train Epoch: 7 [20000/50000 (40%)]\tLosses bn: 0.110991\n",
      "Train Epoch: 7 [30000/50000 (60%)]\tLosses bn: 0.068063\n",
      "Train Epoch: 7 [40000/50000 (80%)]\tLosses bn: 0.073500\n",
      "Train Epoch: 7 [50000/50000 (100%)]\tLosses bn: 0.121934\n",
      "Test set:\n",
      "bn: Loss: 0.0985\tAccuracy: 9777.0/10000 (98%)\n",
      "\n",
      "Train Epoch: 8 [0/50000 (0%)]\tLosses bn: 0.073505\n",
      "Train Epoch: 8 [10000/50000 (20%)]\tLosses bn: 0.125041\n",
      "Train Epoch: 8 [20000/50000 (40%)]\tLosses bn: 0.078135\n",
      "Train Epoch: 8 [30000/50000 (60%)]\tLosses bn: 0.030060\n",
      "Train Epoch: 8 [40000/50000 (80%)]\tLosses bn: 0.152024\n",
      "Train Epoch: 8 [50000/50000 (100%)]\tLosses bn: 0.114577\n",
      "Test set:\n",
      "bn: Loss: 0.0884\tAccuracy: 9784.0/10000 (98%)\n",
      "\n",
      "Train Epoch: 9 [0/50000 (0%)]\tLosses bn: 0.034210\n",
      "Train Epoch: 9 [10000/50000 (20%)]\tLosses bn: 0.122084\n",
      "Train Epoch: 9 [20000/50000 (40%)]\tLosses bn: 0.048927\n",
      "Train Epoch: 9 [30000/50000 (60%)]\tLosses bn: 0.071715\n",
      "Train Epoch: 9 [40000/50000 (80%)]\tLosses bn: 0.053317\n",
      "Train Epoch: 9 [50000/50000 (100%)]\tLosses bn: 0.024594\n",
      "Test set:\n",
      "bn: Loss: 0.0805\tAccuracy: 9806.0/10000 (98%)\n",
      "\n",
      "Train Epoch: 10 [0/50000 (0%)]\tLosses bn: 0.034826\n",
      "Train Epoch: 10 [10000/50000 (20%)]\tLosses bn: 0.025636\n",
      "Train Epoch: 10 [20000/50000 (40%)]\tLosses bn: 0.176318\n",
      "Train Epoch: 10 [30000/50000 (60%)]\tLosses bn: 0.037024\n",
      "Train Epoch: 10 [40000/50000 (80%)]\tLosses bn: 0.043858\n",
      "Train Epoch: 10 [50000/50000 (100%)]\tLosses bn: 0.029333\n",
      "Test set:\n",
      "bn: Loss: 0.0775\tAccuracy: 9811.0/10000 (98%)\n",
      "\n",
      "Train Epoch: 11 [0/50000 (0%)]\tLosses bn: 0.164445\n",
      "Train Epoch: 11 [10000/50000 (20%)]\tLosses bn: 0.060276\n",
      "Train Epoch: 11 [20000/50000 (40%)]\tLosses bn: 0.095703\n",
      "Train Epoch: 11 [30000/50000 (60%)]\tLosses bn: 0.043194\n",
      "Train Epoch: 11 [40000/50000 (80%)]\tLosses bn: 0.077689\n",
      "Train Epoch: 11 [50000/50000 (100%)]\tLosses bn: 0.025271\n",
      "Test set:\n",
      "bn: Loss: 0.0691\tAccuracy: 9826.0/10000 (98%)\n",
      "\n",
      "Train Epoch: 12 [0/50000 (0%)]\tLosses bn: 0.039644\n",
      "Train Epoch: 12 [10000/50000 (20%)]\tLosses bn: 0.060173\n",
      "Train Epoch: 12 [20000/50000 (40%)]\tLosses bn: 0.116231\n",
      "Train Epoch: 12 [30000/50000 (60%)]\tLosses bn: 0.067688\n",
      "Train Epoch: 12 [40000/50000 (80%)]\tLosses bn: 0.086882\n",
      "Train Epoch: 12 [50000/50000 (100%)]\tLosses bn: 0.037538\n",
      "Test set:\n",
      "bn: Loss: 0.0662\tAccuracy: 9832.0/10000 (98%)\n",
      "\n",
      "Train Epoch: 13 [0/50000 (0%)]\tLosses bn: 0.014375\n",
      "Train Epoch: 13 [10000/50000 (20%)]\tLosses bn: 0.026328\n",
      "Train Epoch: 13 [20000/50000 (40%)]\tLosses bn: 0.031438\n",
      "Train Epoch: 13 [30000/50000 (60%)]\tLosses bn: 0.107943\n",
      "Train Epoch: 13 [40000/50000 (80%)]\tLosses bn: 0.111706\n",
      "Train Epoch: 13 [50000/50000 (100%)]\tLosses bn: 0.026383\n",
      "Test set:\n",
      "bn: Loss: 0.0634\tAccuracy: 9832.0/10000 (98%)\n",
      "\n",
      "Train Epoch: 14 [0/50000 (0%)]\tLosses bn: 0.010024\n",
      "Train Epoch: 14 [10000/50000 (20%)]\tLosses bn: 0.034603\n",
      "Train Epoch: 14 [20000/50000 (40%)]\tLosses bn: 0.055804\n",
      "Train Epoch: 14 [30000/50000 (60%)]\tLosses bn: 0.027215\n",
      "Train Epoch: 14 [40000/50000 (80%)]\tLosses bn: 0.037132\n",
      "Train Epoch: 14 [50000/50000 (100%)]\tLosses bn: 0.096701\n",
      "Test set:\n",
      "bn: Loss: 0.0606\tAccuracy: 9847.0/10000 (98%)\n",
      "\n",
      "Train Epoch: 15 [0/50000 (0%)]\tLosses bn: 0.094639\n",
      "Train Epoch: 15 [10000/50000 (20%)]\tLosses bn: 0.073743\n",
      "Train Epoch: 15 [20000/50000 (40%)]\tLosses bn: 0.070665\n",
      "Train Epoch: 15 [30000/50000 (60%)]\tLosses bn: 0.144842\n",
      "Train Epoch: 15 [40000/50000 (80%)]\tLosses bn: 0.012927\n",
      "Train Epoch: 15 [50000/50000 (100%)]\tLosses bn: 0.116339\n",
      "Test set:\n",
      "bn: Loss: 0.0575\tAccuracy: 9857.0/10000 (99%)\n",
      "\n",
      "Train Epoch: 16 [0/50000 (0%)]\tLosses bn: 0.052234\n",
      "Train Epoch: 16 [10000/50000 (20%)]\tLosses bn: 0.073615\n",
      "Train Epoch: 16 [20000/50000 (40%)]\tLosses bn: 0.014122\n",
      "Train Epoch: 16 [30000/50000 (60%)]\tLosses bn: 0.036628\n",
      "Train Epoch: 16 [40000/50000 (80%)]\tLosses bn: 0.178300\n",
      "Train Epoch: 16 [50000/50000 (100%)]\tLosses bn: 0.027401\n",
      "Test set:\n",
      "bn: Loss: 0.0570\tAccuracy: 9853.0/10000 (99%)\n",
      "\n",
      "Train Epoch: 17 [0/50000 (0%)]\tLosses bn: 0.064994\n",
      "Train Epoch: 17 [10000/50000 (20%)]\tLosses bn: 0.040890\n",
      "Train Epoch: 17 [20000/50000 (40%)]\tLosses bn: 0.109479\n",
      "Train Epoch: 17 [30000/50000 (60%)]\tLosses bn: 0.072430\n",
      "Train Epoch: 17 [40000/50000 (80%)]\tLosses bn: 0.013110\n",
      "Train Epoch: 17 [50000/50000 (100%)]\tLosses bn: 0.034427\n",
      "Test set:\n",
      "bn: Loss: 0.0546\tAccuracy: 9860.0/10000 (99%)\n",
      "\n",
      "Train Epoch: 18 [0/50000 (0%)]\tLosses bn: 0.018572\n",
      "Train Epoch: 18 [10000/50000 (20%)]\tLosses bn: 0.035990\n",
      "Train Epoch: 18 [20000/50000 (40%)]\tLosses bn: 0.026514\n",
      "Train Epoch: 18 [30000/50000 (60%)]\tLosses bn: 0.014530\n",
      "Train Epoch: 18 [40000/50000 (80%)]\tLosses bn: 0.006628\n",
      "Train Epoch: 18 [50000/50000 (100%)]\tLosses bn: 0.079294\n",
      "Test set:\n",
      "bn: Loss: 0.0519\tAccuracy: 9869.0/10000 (99%)\n",
      "\n",
      "Train Epoch: 19 [0/50000 (0%)]\tLosses bn: 0.039270\n",
      "Train Epoch: 19 [10000/50000 (20%)]\tLosses bn: 0.028454\n",
      "Train Epoch: 19 [20000/50000 (40%)]\tLosses bn: 0.084526\n",
      "Train Epoch: 19 [30000/50000 (60%)]\tLosses bn: 0.015969\n",
      "Train Epoch: 19 [40000/50000 (80%)]\tLosses bn: 0.044173\n",
      "Train Epoch: 19 [50000/50000 (100%)]\tLosses bn: 0.064564\n",
      "Test set:\n",
      "bn: Loss: 0.0504\tAccuracy: 9871.0/10000 (99%)\n",
      "\n",
      "Train Epoch: 20 [0/50000 (0%)]\tLosses bn: 0.025208\n",
      "Train Epoch: 20 [10000/50000 (20%)]\tLosses bn: 0.036094\n",
      "Train Epoch: 20 [20000/50000 (40%)]\tLosses bn: 0.004769\n",
      "Train Epoch: 20 [30000/50000 (60%)]\tLosses bn: 0.080974\n",
      "Train Epoch: 20 [40000/50000 (80%)]\tLosses bn: 0.027173\n",
      "Train Epoch: 20 [50000/50000 (100%)]\tLosses bn: 0.099014\n",
      "Test set:\n",
      "bn: Loss: 0.0495\tAccuracy: 9871.0/10000 (99%)\n",
      "\n",
      "Train Epoch: 21 [0/50000 (0%)]\tLosses bn: 0.042543\n",
      "Train Epoch: 21 [10000/50000 (20%)]\tLosses bn: 0.081137\n",
      "Train Epoch: 21 [20000/50000 (40%)]\tLosses bn: 0.013082\n",
      "Train Epoch: 21 [30000/50000 (60%)]\tLosses bn: 0.033075\n",
      "Train Epoch: 21 [40000/50000 (80%)]\tLosses bn: 0.032632\n",
      "Train Epoch: 21 [50000/50000 (100%)]\tLosses bn: 0.014855\n",
      "Test set:\n",
      "bn: Loss: 0.0499\tAccuracy: 9873.0/10000 (99%)\n",
      "\n",
      "Train Epoch: 22 [0/50000 (0%)]\tLosses bn: 0.017080\n",
      "Train Epoch: 22 [10000/50000 (20%)]\tLosses bn: 0.046519\n"
     ]
    },
    {
     "name": "stdout",
     "output_type": "stream",
     "text": [
      "Train Epoch: 22 [20000/50000 (40%)]\tLosses bn: 0.007716\n",
      "Train Epoch: 22 [30000/50000 (60%)]\tLosses bn: 0.009709\n",
      "Train Epoch: 22 [40000/50000 (80%)]\tLosses bn: 0.080426\n",
      "Train Epoch: 22 [50000/50000 (100%)]\tLosses bn: 0.076587\n",
      "Test set:\n",
      "bn: Loss: 0.0470\tAccuracy: 9884.0/10000 (99%)\n",
      "\n",
      "Train Epoch: 23 [0/50000 (0%)]\tLosses bn: 0.051056\n"
     ]
    },
    {
     "ename": "KeyboardInterrupt",
     "evalue": "",
     "output_type": "error",
     "traceback": [
      "\u001b[0;31m---------------------------------------------------------------------------\u001b[0m",
      "\u001b[0;31mKeyboardInterrupt\u001b[0m                         Traceback (most recent call last)",
      "\u001b[0;32m<ipython-input-208-8e3513d9f0c5>\u001b[0m in \u001b[0;36m<module>\u001b[0;34m()\u001b[0m\n\u001b[1;32m      2\u001b[0m     \u001b[0;32mfor\u001b[0m \u001b[0mmodel\u001b[0m \u001b[0;32min\u001b[0m \u001b[0mmodels\u001b[0m\u001b[0;34m.\u001b[0m\u001b[0mvalues\u001b[0m\u001b[0;34m(\u001b[0m\u001b[0;34m)\u001b[0m\u001b[0;34m:\u001b[0m\u001b[0;34m\u001b[0m\u001b[0m\n\u001b[1;32m      3\u001b[0m         \u001b[0mmodel\u001b[0m\u001b[0;34m.\u001b[0m\u001b[0mtrain\u001b[0m\u001b[0;34m(\u001b[0m\u001b[0;34m)\u001b[0m\u001b[0;34m\u001b[0m\u001b[0m\n\u001b[0;32m----> 4\u001b[0;31m     \u001b[0mtrain\u001b[0m\u001b[0;34m(\u001b[0m\u001b[0mepoch\u001b[0m\u001b[0;34m,\u001b[0m \u001b[0mmodels\u001b[0m\u001b[0;34m,\u001b[0m \u001b[0mtrain_log\u001b[0m\u001b[0;34m)\u001b[0m\u001b[0;34m\u001b[0m\u001b[0m\n\u001b[0m\u001b[1;32m      5\u001b[0m     \u001b[0;32mfor\u001b[0m \u001b[0mmodel\u001b[0m \u001b[0;32min\u001b[0m \u001b[0mmodels\u001b[0m\u001b[0;34m.\u001b[0m\u001b[0mvalues\u001b[0m\u001b[0;34m(\u001b[0m\u001b[0;34m)\u001b[0m\u001b[0;34m:\u001b[0m\u001b[0;34m\u001b[0m\u001b[0m\n\u001b[1;32m      6\u001b[0m         \u001b[0mmodel\u001b[0m\u001b[0;34m.\u001b[0m\u001b[0meval\u001b[0m\u001b[0;34m(\u001b[0m\u001b[0;34m)\u001b[0m\u001b[0;34m\u001b[0m\u001b[0m\n",
      "\u001b[0;32m<ipython-input-206-513bdd696d20>\u001b[0m in \u001b[0;36mtrain\u001b[0;34m(epoch, models, log)\u001b[0m\n\u001b[1;32m      6\u001b[0m             \u001b[0moutput\u001b[0m \u001b[0;34m=\u001b[0m \u001b[0mmodel\u001b[0m\u001b[0;34m(\u001b[0m\u001b[0mdata\u001b[0m\u001b[0;34m)\u001b[0m\u001b[0;34m\u001b[0m\u001b[0m\n\u001b[1;32m      7\u001b[0m             \u001b[0mloss\u001b[0m \u001b[0;34m=\u001b[0m \u001b[0mmodel\u001b[0m\u001b[0;34m.\u001b[0m\u001b[0mloss\u001b[0m\u001b[0;34m(\u001b[0m\u001b[0moutput\u001b[0m\u001b[0;34m,\u001b[0m \u001b[0mtarget\u001b[0m\u001b[0;34m)\u001b[0m\u001b[0;34m\u001b[0m\u001b[0m\n\u001b[0;32m----> 8\u001b[0;31m             \u001b[0mloss\u001b[0m\u001b[0;34m.\u001b[0m\u001b[0mbackward\u001b[0m\u001b[0;34m(\u001b[0m\u001b[0;34m)\u001b[0m\u001b[0;34m\u001b[0m\u001b[0m\n\u001b[0m\u001b[1;32m      9\u001b[0m             \u001b[0mmodel\u001b[0m\u001b[0;34m.\u001b[0m\u001b[0moptim\u001b[0m\u001b[0;34m.\u001b[0m\u001b[0mstep\u001b[0m\u001b[0;34m(\u001b[0m\u001b[0;34m)\u001b[0m\u001b[0;34m\u001b[0m\u001b[0m\n\u001b[1;32m     10\u001b[0m \u001b[0;34m\u001b[0m\u001b[0m\n",
      "\u001b[0;32m/opt/conda/lib/python3.6/site-packages/torch/tensor.py\u001b[0m in \u001b[0;36mbackward\u001b[0;34m(self, gradient, retain_graph, create_graph)\u001b[0m\n\u001b[1;32m    100\u001b[0m                 \u001b[0mproducts\u001b[0m\u001b[0;34m.\u001b[0m \u001b[0mDefaults\u001b[0m \u001b[0mto\u001b[0m\u001b[0;31m \u001b[0m\u001b[0;31m`\u001b[0m\u001b[0;31m`\u001b[0m\u001b[0;32mFalse\u001b[0m\u001b[0;31m`\u001b[0m\u001b[0;31m`\u001b[0m\u001b[0;34m.\u001b[0m\u001b[0;34m\u001b[0m\u001b[0m\n\u001b[1;32m    101\u001b[0m         \"\"\"\n\u001b[0;32m--> 102\u001b[0;31m         \u001b[0mtorch\u001b[0m\u001b[0;34m.\u001b[0m\u001b[0mautograd\u001b[0m\u001b[0;34m.\u001b[0m\u001b[0mbackward\u001b[0m\u001b[0;34m(\u001b[0m\u001b[0mself\u001b[0m\u001b[0;34m,\u001b[0m \u001b[0mgradient\u001b[0m\u001b[0;34m,\u001b[0m \u001b[0mretain_graph\u001b[0m\u001b[0;34m,\u001b[0m \u001b[0mcreate_graph\u001b[0m\u001b[0;34m)\u001b[0m\u001b[0;34m\u001b[0m\u001b[0m\n\u001b[0m\u001b[1;32m    103\u001b[0m \u001b[0;34m\u001b[0m\u001b[0m\n\u001b[1;32m    104\u001b[0m     \u001b[0;32mdef\u001b[0m \u001b[0mregister_hook\u001b[0m\u001b[0;34m(\u001b[0m\u001b[0mself\u001b[0m\u001b[0;34m,\u001b[0m \u001b[0mhook\u001b[0m\u001b[0;34m)\u001b[0m\u001b[0;34m:\u001b[0m\u001b[0;34m\u001b[0m\u001b[0m\n",
      "\u001b[0;32m/opt/conda/lib/python3.6/site-packages/torch/autograd/__init__.py\u001b[0m in \u001b[0;36mbackward\u001b[0;34m(tensors, grad_tensors, retain_graph, create_graph, grad_variables)\u001b[0m\n\u001b[1;32m     88\u001b[0m     Variable._execution_engine.run_backward(\n\u001b[1;32m     89\u001b[0m         \u001b[0mtensors\u001b[0m\u001b[0;34m,\u001b[0m \u001b[0mgrad_tensors\u001b[0m\u001b[0;34m,\u001b[0m \u001b[0mretain_graph\u001b[0m\u001b[0;34m,\u001b[0m \u001b[0mcreate_graph\u001b[0m\u001b[0;34m,\u001b[0m\u001b[0;34m\u001b[0m\u001b[0m\n\u001b[0;32m---> 90\u001b[0;31m         allow_unreachable=True)  # allow_unreachable flag\n\u001b[0m\u001b[1;32m     91\u001b[0m \u001b[0;34m\u001b[0m\u001b[0m\n\u001b[1;32m     92\u001b[0m \u001b[0;34m\u001b[0m\u001b[0m\n",
      "\u001b[0;31mKeyboardInterrupt\u001b[0m: "
     ]
    }
   ],
   "source": [
    "for epoch in range(1, 51):\n",
    "    for model in models.values():\n",
    "        model.train()\n",
    "    train(epoch, models, train_log)\n",
    "    for model in models.values():\n",
    "        model.eval()\n",
    "    test(models, valid_loader, test_log)"
   ]
  },
  {
   "cell_type": "code",
   "execution_count": 209,
   "metadata": {},
   "outputs": [
    {
     "data": {
      "image/png": "[encoded data removed]",
      "text/plain": [
       "<Figure size 432x288 with 1 Axes>"
      ]
     },
     "metadata": {},
     "output_type": "display_data"
    }
   ],
   "source": [
    "plot_graphs(test_log, 'loss')"
   ]
  },
  {
   "cell_type": "code",
   "execution_count": 210,
   "metadata": {},
   "outputs": [
    {
     "data": {
      "image/png": "[encoded data removed]",
      "text/plain": [
       "<Figure size 432x288 with 1 Axes>"
      ]
     },
     "metadata": {},
     "output_type": "display_data"
    }
   ],
   "source": [
    "plot_graphs(test_log, 'accuracy')"
   ]
  },
  {
   "cell_type": "code",
   "execution_count": 211,
   "metadata": {},
   "outputs": [
    {
     "data": {
      "image/png": "[encoded data removed]",
      "text/plain": [
       "<Figure size 800x400 with 50 Axes>"
      ]
     },
     "metadata": {},
     "output_type": "display_data"
    },
    {
     "name": "stdout",
     "output_type": "stream",
     "text": [
      "tensor([ -7.5165, -11.1258,  -6.6277,  -3.9604,  -6.2379,  -1.4637, -10.0316,\n",
      "          0.3394,  -0.0250,   5.5787], grad_fn=<SelectBackward>)\n"
     ]
    }
   ],
   "source": [
    "data, label = next(iter(train_loader))\n",
    "plot_mnist(data.data.numpy(), (5, 10))\n",
    "output = models['bn'](data)\n",
    "output.size()\n",
    "print(output[0])\n",
    "#to_plot = output.view(-1, 1, 28, 28).clamp(0, 1).data.numpy()\n",
    "#plot_mnist(to_plot, (5, 10))"
   ]
  },
  {
   "cell_type": "markdown",
   "metadata": {},
   "source": [
    "### Adversarial attack"
   ]
  },
  {
   "cell_type": "code",
   "execution_count": 212,
   "metadata": {},
   "outputs": [],
   "source": [
    "path='./MNIST_data'\n",
    "from torch.utils.data import DataLoader\n",
    "train_dataset = torchvision.datasets.MNIST(root = path, train=True, transform=mnist_transform, download=True) \n",
    "train_loader_1 = DataLoader(dataset=train_dataset, batch_size=1,shuffle=True) \n",
    "data_1_load, label_1 = next(iter(train_loader_1))"
   ]
  },
  {
   "cell_type": "code",
   "execution_count": 213,
   "metadata": {},
   "outputs": [
    {
     "name": "stdout",
     "output_type": "stream",
     "text": [
      "-0.4242129623889923\n",
      "2.821486711502075\n"
     ]
    }
   ],
   "source": [
    "# Нормализованный мнист\n",
    "print(data_1_load.min().item())\n",
    "print(data_1_load.max().item())"
   ]
  },
  {
   "cell_type": "code",
   "execution_count": 237,
   "metadata": {},
   "outputs": [],
   "source": [
    "# Целевой пусть будет циферка :\n",
    "target = torch.tensor([4])\n",
    "step = 300"
   ]
  },
  {
   "cell_type": "code",
   "execution_count": 238,
   "metadata": {},
   "outputs": [
    {
     "name": "stderr",
     "output_type": "stream",
     "text": [
      "/opt/conda/lib/python3.6/site-packages/ipykernel_launcher.py:7: UserWarning: To copy construct from a tensor, it is recommended to use sourceTensor.clone().detach() or sourceTensor.clone().detach().requires_grad_(True), rather than torch.tensor(sourceTensor).\n",
      "  import sys\n"
     ]
    },
    {
     "data": {
      "image/png": "[encoded data removed]",
      "text/plain": [
       "<Figure size 800x400 with 1 Axes>"
      ]
     },
     "metadata": {},
     "output_type": "display_data"
    },
    {
     "name": "stdout",
     "output_type": "stream",
     "text": [
      "6.638888835906982\n"
     ]
    },
    {
     "data": {
      "image/png": "[encoded data removed]",
      "text/plain": [
       "<Figure size 800x400 with 1 Axes>"
      ]
     },
     "metadata": {},
     "output_type": "display_data"
    },
    {
     "name": "stdout",
     "output_type": "stream",
     "text": [
      "0.31345701217651367\n"
     ]
    },
    {
     "data": {
      "image/png": "[encoded data removed]",
      "text/plain": [
       "<Figure size 800x400 with 1 Axes>"
      ]
     },
     "metadata": {},
     "output_type": "display_data"
    },
    {
     "name": "stdout",
     "output_type": "stream",
     "text": [
      "0.0029859542846679688\n"
     ]
    },
    {
     "data": {
      "image/png": "[encoded data removed]",
      "text/plain": [
       "<Figure size 800x400 with 1 Axes>"
      ]
     },
     "metadata": {},
     "output_type": "display_data"
    },
    {
     "name": "stdout",
     "output_type": "stream",
     "text": [
      "0.00012302398681640625\n"
     ]
    },
    {
     "data": {
      "image/png": "[encoded data removed]",
      "text/plain": [
       "<Figure size 800x400 with 1 Axes>"
      ]
     },
     "metadata": {},
     "output_type": "display_data"
    },
    {
     "name": "stdout",
     "output_type": "stream",
     "text": [
      "1.33514404296875e-05\n"
     ]
    },
    {
     "data": {
      "image/png": "[encoded data removed]",
      "text/plain": [
       "<Figure size 800x400 with 1 Axes>"
      ]
     },
     "metadata": {},
     "output_type": "display_data"
    },
    {
     "name": "stdout",
     "output_type": "stream",
     "text": [
      "3.814697265625e-06\n"
     ]
    },
    {
     "data": {
      "image/png": "[encoded data removed]",
      "text/plain": [
       "<Figure size 800x400 with 1 Axes>"
      ]
     },
     "metadata": {},
     "output_type": "display_data"
    }
   ],
   "source": [
    "# NEW with interval\n",
    "# Cross entropy with OPTIM.zero_grad()\n",
    "#lr = 0.03\n",
    "output_ar = []\n",
    "loss_arr = []\n",
    "grads = []\n",
    "data_1 = torch.tensor( data_1_load , requires_grad= True )\n",
    "opt = optim.Adam([data_1])\n",
    "#data_1 = data_1_load.detach()\n",
    "#print(data_1.data)\n",
    "for p in range(step):\n",
    "    opt.zero_grad()\n",
    "    output_1 = model(data_1)\n",
    "    loss_t = F.cross_entropy(output_1, target)\n",
    "    loss_t.backward()\n",
    "    opt = optim.Adam([data_1])\n",
    "    opt.step()\n",
    "    if p % 50 == 0:\n",
    "        plot_mnist(data_1.data.numpy(), (5, 10))\n",
    "        print(loss_t.data.item())\n",
    "data_1 = torch.clamp(data_1,data_1_load.min().item(),data_1_load.max().item())\n",
    "plot_mnist(data_1.data.numpy(), (5, 10))"
   ]
  },
  {
   "cell_type": "code",
   "execution_count": 239,
   "metadata": {},
   "outputs": [
    {
     "name": "stdout",
     "output_type": "stream",
     "text": [
      "-0.4242129623889923\n",
      "2.821486711502075\n"
     ]
    }
   ],
   "source": [
    "print(data_1.min().item())\n",
    "print(data_1.max().item())"
   ]
  },
  {
   "cell_type": "code",
   "execution_count": 240,
   "metadata": {},
   "outputs": [
    {
     "name": "stdout",
     "output_type": "stream",
     "text": [
      "tensor([[-7.9749, -1.6983, -4.2895, -4.9030,  5.1808, -6.1605, -4.9059, -4.6025,\n",
      "         -2.1382, -6.5837]], grad_fn=<AddmmBackward>)\n"
     ]
    }
   ],
   "source": [
    "# Проверка, что это все таки та цифра, которую хотим\n",
    "output_1 = model(data_1)\n",
    "print(output_1)"
   ]
  }
 ],
 "metadata": {
  "kernelspec": {
   "display_name": "Python 3",
   "language": "python",
   "name": "python3"
  },
  "language_info": {
   "codemirror_mode": {
    "name": "ipython",
    "version": 3
   },
   "file_extension": ".py",
   "mimetype": "text/x-python",
   "name": "python",
   "nbconvert_exporter": "python",
   "pygments_lexer": "ipython3",
   "version": "3.6.3"
  }
 },
 "nbformat": 4,
 "nbformat_minor": 2
}
