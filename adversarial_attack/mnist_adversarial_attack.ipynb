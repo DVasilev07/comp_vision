{
 "cells": [
  {
   "cell_type": "code",
   "execution_count": 172,
   "metadata": {},
   "outputs": [],
   "source": [
    "import torch\n",
    "import torch.nn as nn\n",
    "import torch.nn.functional as F\n",
    "import torch.optim as optim\n",
    "import torchvision\n",
    "from torchvision import datasets, transforms\n",
    "\n",
    "from utils import mnist, plot_graphs, plot_mnist, mnist_transform\n",
    "import numpy as np\n",
    "\n",
    "%matplotlib inline"
   ]
  },
  {
   "cell_type": "code",
   "execution_count": 173,
   "metadata": {},
   "outputs": [],
   "source": [
    "import matplotlib\n",
    "import matplotlib.pyplot as plt\n",
    "import numpy as np\n",
    "%matplotlib inline"
   ]
  },
  {
   "cell_type": "code",
   "execution_count": 174,
   "metadata": {},
   "outputs": [],
   "source": [
    "train_loader, valid_loader, test_loader = mnist(valid=10000, transform=transforms.ToTensor())"
   ]
  },
  {
   "cell_type": "code",
   "execution_count": 175,
   "metadata": {},
   "outputs": [],
   "source": [
    "class ConvLayer(nn.Module):\n",
    "    def __init__(self, size, padding=1, pool_layer=nn.MaxPool2d(2, stride=2),\n",
    "                 bn=False, dropout=False, activation_fn=nn.ReLU()):\n",
    "        super(ConvLayer, self).__init__()\n",
    "        layers = []\n",
    "        layers.append(nn.Conv2d(size[0], size[1], size[2], padding=padding))\n",
    "        if pool_layer is not None:\n",
    "            layers.append(pool_layer)\n",
    "        if bn:\n",
    "            layers.append(nn.BatchNorm2d(size[1]))\n",
    "        if dropout:\n",
    "            layers.append(nn.Dropout2d())\n",
    "        layers.append(activation_fn)\n",
    "        \n",
    "        self.model = nn.Sequential(*layers)\n",
    "    \n",
    "    def forward(self, x):\n",
    "        return self.model(x)"
   ]
  },
  {
   "cell_type": "code",
   "execution_count": 176,
   "metadata": {},
   "outputs": [],
   "source": [
    "class FullyConnected(nn.Module):\n",
    "    def __init__(self, sizes, dropout=False, activation_fn=nn.Tanh):\n",
    "        super(FullyConnected, self).__init__()\n",
    "        layers = []\n",
    "        \n",
    "        for i in range(len(sizes) - 2):\n",
    "            layers.append(nn.Linear(sizes[i], sizes[i+1]))\n",
    "            if dropout:\n",
    "                layers.append(nn.Dropout())\n",
    "            layers.append(activation_fn())\n",
    "        else: # нам не нужен дропаут и фнкция активации в последнем слое\n",
    "            layers.append(nn.Linear(sizes[-2], sizes[-1]))\n",
    "        \n",
    "        self.model = nn.Sequential(*layers)\n",
    "        \n",
    "    def forward(self, x):\n",
    "        return self.model(x)"
   ]
  },
  {
   "cell_type": "code",
   "execution_count": 177,
   "metadata": {},
   "outputs": [],
   "source": [
    "class Net(nn.Module):\n",
    "    def __init__(self, batchnorm=False, dropout=False, lr=1e-4, l2=0.):\n",
    "        super(Net, self).__init__()\n",
    "        \n",
    "        \n",
    "        self._conv1 = ConvLayer([1, 16, 3], bn=batchnorm)\n",
    "        self._conv2 = ConvLayer([16, 32, 3], bn=batchnorm, activation_fn=nn.Sigmoid())\n",
    "        \n",
    "        self.fc = FullyConnected([32*7*7, 10], dropout=dropout, activation_fn =nn.Sigmoid() )\n",
    "        \n",
    "        self._loss = None\n",
    "        self.optim = optim.Adam(self.parameters(), lr=lr, weight_decay=l2)\n",
    "    \n",
    "    def conv(self, x):\n",
    "        x = self._conv1(x)\n",
    "        x = self._conv2(x)\n",
    "        return x\n",
    "    \n",
    "\n",
    "        \n",
    "    def forward(self, x):\n",
    "        x = self.conv(x)\n",
    "        x = x.view(-1, 32*7*7)\n",
    "        x = self.fc(x)\n",
    "        return x\n",
    "    \n",
    "    def loss(self, output, target, **kwargs):\n",
    "        self._loss = F.cross_entropy(output, target, **kwargs)\n",
    "        self._correct = output.data.max(1, keepdim=True)[1]\n",
    "        self._correct = self._correct.eq(target.data.view_as(self._correct)).to(torch.float).cpu().mean()\n",
    "        return self._loss"
   ]
  },
  {
   "cell_type": "code",
   "execution_count": 178,
   "metadata": {},
   "outputs": [],
   "source": [
    "#models = {'bn': Net(True), 'drop': Net(False, True), 'plain': Net()}\n",
    "models = {'bn': Net(True)}\n",
    "train_log = {k: [] for k in models}\n",
    "test_log = {k: [] for k in models}"
   ]
  },
  {
   "cell_type": "code",
   "execution_count": 179,
   "metadata": {},
   "outputs": [],
   "source": [
    "def train(epoch, models, log=None):\n",
    "    train_size = len(train_loader.sampler)\n",
    "    for batch_idx, (data, target) in enumerate(train_loader):\n",
    "        for model in models.values():\n",
    "            model.optim.zero_grad()\n",
    "            output = model(data)\n",
    "            loss = model.loss(output, target)\n",
    "            loss.backward()\n",
    "            model.optim.step()\n",
    "            \n",
    "        if batch_idx % 200 == 0:\n",
    "            line = 'Train Epoch: {} [{}/{} ({:.0f}%)]\\tLosses '.format(\n",
    "                epoch, batch_idx * len(data), train_size, 100. * batch_idx / len(train_loader))\n",
    "            losses = ' '.join(['{}: {:.6f}'.format(k, m._loss.item()) for k, m in models.items()])\n",
    "            print(line + losses)\n",
    "            \n",
    "    else:\n",
    "        batch_idx += 1\n",
    "        line = 'Train Epoch: {} [{}/{} ({:.0f}%)]\\tLosses '.format(\n",
    "            epoch, batch_idx * len(data), train_size, 100. * batch_idx / len(train_loader))\n",
    "        losses = ' '.join(['{}: {:.6f}'.format(k, m._loss.item()) for k, m in models.items()])\n",
    "        if log is not None:\n",
    "            for k in models:\n",
    "                log[k].append((models[k]._loss, models[k]._correct))\n",
    "        print(line + losses)"
   ]
  },
  {
   "cell_type": "code",
   "execution_count": 180,
   "metadata": {},
   "outputs": [],
   "source": [
    "def test(models, loader, log=None):\n",
    "    test_size = len(loader.sampler)\n",
    "    avg_lambda = lambda l: 'Loss: {:.4f}'.format(l)\n",
    "    acc_lambda = lambda c, p: 'Accuracy: {}/{} ({:.0f}%)'.format(c, test_size, p)\n",
    "    line = lambda i, l, c, p: '{}: '.format(i) + avg_lambda(l) + '\\t' + acc_lambda(c, p)\n",
    "\n",
    "    test_loss = {k: 0. for k in models}\n",
    "    correct = {k: 0. for k in models}\n",
    "    with torch.no_grad():\n",
    "        for data, target in loader:\n",
    "            output = {k: m(data) for k, m in models.items()}\n",
    "            for k, m in models.items():\n",
    "                test_loss[k] += m.loss(output[k], target, reduction='sum').item() # sum up batch loss\n",
    "                pred = output[k].data.max(1, keepdim=True)[1] # get the index of the max log-probability\n",
    "                correct[k] += pred.eq(target.data.view_as(pred)).cpu().sum().item()\n",
    "    \n",
    "    for k in models:\n",
    "        test_loss[k] /= test_size\n",
    "    correct_pct = {k: c / test_size for k, c in correct.items()}\n",
    "    lines = '\\n'.join([line(k, test_loss[k], correct[k], 100*correct_pct[k]) for k in models]) + '\\n'\n",
    "    report = 'Test set:\\n' + lines\n",
    "    if log is not None:\n",
    "        for k in models:\n",
    "            log[k].append((test_loss[k], correct_pct[k]))\n",
    "    print(report)"
   ]
  },
  {
   "cell_type": "code",
   "execution_count": 181,
   "metadata": {},
   "outputs": [
    {
     "name": "stdout",
     "output_type": "stream",
     "text": [
      "Train Epoch: 1 [0/50000 (0%)]\tLosses bn: 2.327027\n",
      "Train Epoch: 1 [10000/50000 (20%)]\tLosses bn: 1.930029\n",
      "Train Epoch: 1 [20000/50000 (40%)]\tLosses bn: 1.558691\n",
      "Train Epoch: 1 [30000/50000 (60%)]\tLosses bn: 1.162991\n",
      "Train Epoch: 1 [40000/50000 (80%)]\tLosses bn: 0.856352\n",
      "Train Epoch: 1 [50000/50000 (100%)]\tLosses bn: 0.784997\n",
      "Test set:\n",
      "bn: Loss: 0.7208\tAccuracy: 9124.0/10000 (91%)\n",
      "\n",
      "Train Epoch: 2 [0/50000 (0%)]\tLosses bn: 0.685069\n",
      "Train Epoch: 2 [10000/50000 (20%)]\tLosses bn: 0.510682\n",
      "Train Epoch: 2 [20000/50000 (40%)]\tLosses bn: 0.551553\n",
      "Train Epoch: 2 [30000/50000 (60%)]\tLosses bn: 0.388703\n",
      "Train Epoch: 2 [40000/50000 (80%)]\tLosses bn: 0.394615\n",
      "Train Epoch: 2 [50000/50000 (100%)]\tLosses bn: 0.302187\n",
      "Test set:\n",
      "bn: Loss: 0.3471\tAccuracy: 9396.0/10000 (94%)\n",
      "\n",
      "Train Epoch: 3 [0/50000 (0%)]\tLosses bn: 0.366299\n",
      "Train Epoch: 3 [10000/50000 (20%)]\tLosses bn: 0.300220\n",
      "Train Epoch: 3 [20000/50000 (40%)]\tLosses bn: 0.313251\n",
      "Train Epoch: 3 [30000/50000 (60%)]\tLosses bn: 0.306305\n",
      "Train Epoch: 3 [40000/50000 (80%)]\tLosses bn: 0.188059\n",
      "Train Epoch: 3 [50000/50000 (100%)]\tLosses bn: 0.241080\n",
      "Test set:\n",
      "bn: Loss: 0.2304\tAccuracy: 9523.0/10000 (95%)\n",
      "\n",
      "Train Epoch: 4 [0/50000 (0%)]\tLosses bn: 0.188327\n",
      "Train Epoch: 4 [10000/50000 (20%)]\tLosses bn: 0.185886\n",
      "Train Epoch: 4 [20000/50000 (40%)]\tLosses bn: 0.111175\n",
      "Train Epoch: 4 [30000/50000 (60%)]\tLosses bn: 0.110289\n",
      "Train Epoch: 4 [40000/50000 (80%)]\tLosses bn: 0.127412\n",
      "Train Epoch: 4 [50000/50000 (100%)]\tLosses bn: 0.122364\n",
      "Test set:\n",
      "bn: Loss: 0.1762\tAccuracy: 9575.0/10000 (96%)\n",
      "\n",
      "Train Epoch: 5 [0/50000 (0%)]\tLosses bn: 0.130956\n",
      "Train Epoch: 5 [10000/50000 (20%)]\tLosses bn: 0.146317\n",
      "Train Epoch: 5 [20000/50000 (40%)]\tLosses bn: 0.191020\n",
      "Train Epoch: 5 [30000/50000 (60%)]\tLosses bn: 0.178594\n",
      "Train Epoch: 5 [40000/50000 (80%)]\tLosses bn: 0.151255\n",
      "Train Epoch: 5 [50000/50000 (100%)]\tLosses bn: 0.089702\n",
      "Test set:\n",
      "bn: Loss: 0.1408\tAccuracy: 9647.0/10000 (96%)\n",
      "\n",
      "Train Epoch: 6 [0/50000 (0%)]\tLosses bn: 0.083918\n",
      "Train Epoch: 6 [10000/50000 (20%)]\tLosses bn: 0.151926\n",
      "Train Epoch: 6 [20000/50000 (40%)]\tLosses bn: 0.284874\n",
      "Train Epoch: 6 [30000/50000 (60%)]\tLosses bn: 0.110335\n",
      "Train Epoch: 6 [40000/50000 (80%)]\tLosses bn: 0.084022\n",
      "Train Epoch: 6 [50000/50000 (100%)]\tLosses bn: 0.082791\n",
      "Test set:\n",
      "bn: Loss: 0.1210\tAccuracy: 9689.0/10000 (97%)\n",
      "\n",
      "Train Epoch: 7 [0/50000 (0%)]\tLosses bn: 0.239070\n",
      "Train Epoch: 7 [10000/50000 (20%)]\tLosses bn: 0.106305\n",
      "Train Epoch: 7 [20000/50000 (40%)]\tLosses bn: 0.051977\n",
      "Train Epoch: 7 [30000/50000 (60%)]\tLosses bn: 0.194781\n",
      "Train Epoch: 7 [40000/50000 (80%)]\tLosses bn: 0.072765\n",
      "Train Epoch: 7 [50000/50000 (100%)]\tLosses bn: 0.121750\n",
      "Test set:\n",
      "bn: Loss: 0.1060\tAccuracy: 9719.0/10000 (97%)\n",
      "\n",
      "Train Epoch: 8 [0/50000 (0%)]\tLosses bn: 0.094859\n",
      "Train Epoch: 8 [10000/50000 (20%)]\tLosses bn: 0.161210\n",
      "Train Epoch: 8 [20000/50000 (40%)]\tLosses bn: 0.045227\n",
      "Train Epoch: 8 [30000/50000 (60%)]\tLosses bn: 0.058895\n",
      "Train Epoch: 8 [40000/50000 (80%)]\tLosses bn: 0.066613\n",
      "Train Epoch: 8 [50000/50000 (100%)]\tLosses bn: 0.091660\n",
      "Test set:\n",
      "bn: Loss: 0.0967\tAccuracy: 9738.0/10000 (97%)\n",
      "\n",
      "Train Epoch: 9 [0/50000 (0%)]\tLosses bn: 0.149431\n",
      "Train Epoch: 9 [10000/50000 (20%)]\tLosses bn: 0.139748\n",
      "Train Epoch: 9 [20000/50000 (40%)]\tLosses bn: 0.039956\n",
      "Train Epoch: 9 [30000/50000 (60%)]\tLosses bn: 0.049069\n",
      "Train Epoch: 9 [40000/50000 (80%)]\tLosses bn: 0.103160\n",
      "Train Epoch: 9 [50000/50000 (100%)]\tLosses bn: 0.088148\n",
      "Test set:\n",
      "bn: Loss: 0.0873\tAccuracy: 9741.0/10000 (97%)\n",
      "\n",
      "Train Epoch: 10 [0/50000 (0%)]\tLosses bn: 0.058902\n",
      "Train Epoch: 10 [10000/50000 (20%)]\tLosses bn: 0.222850\n",
      "Train Epoch: 10 [20000/50000 (40%)]\tLosses bn: 0.064821\n",
      "Train Epoch: 10 [30000/50000 (60%)]\tLosses bn: 0.126007\n",
      "Train Epoch: 10 [40000/50000 (80%)]\tLosses bn: 0.050912\n",
      "Train Epoch: 10 [50000/50000 (100%)]\tLosses bn: 0.033465\n",
      "Test set:\n",
      "bn: Loss: 0.0785\tAccuracy: 9770.0/10000 (98%)\n",
      "\n",
      "Train Epoch: 11 [0/50000 (0%)]\tLosses bn: 0.014291\n",
      "Train Epoch: 11 [10000/50000 (20%)]\tLosses bn: 0.033184\n",
      "Train Epoch: 11 [20000/50000 (40%)]\tLosses bn: 0.011711\n",
      "Train Epoch: 11 [30000/50000 (60%)]\tLosses bn: 0.103830\n",
      "Train Epoch: 11 [40000/50000 (80%)]\tLosses bn: 0.088501\n",
      "Train Epoch: 11 [50000/50000 (100%)]\tLosses bn: 0.028139\n",
      "Test set:\n",
      "bn: Loss: 0.0726\tAccuracy: 9788.0/10000 (98%)\n",
      "\n",
      "Train Epoch: 12 [0/50000 (0%)]\tLosses bn: 0.062315\n",
      "Train Epoch: 12 [10000/50000 (20%)]\tLosses bn: 0.045784\n",
      "Train Epoch: 12 [20000/50000 (40%)]\tLosses bn: 0.010106\n",
      "Train Epoch: 12 [30000/50000 (60%)]\tLosses bn: 0.090758\n",
      "Train Epoch: 12 [40000/50000 (80%)]\tLosses bn: 0.019750\n",
      "Train Epoch: 12 [50000/50000 (100%)]\tLosses bn: 0.038796\n",
      "Test set:\n",
      "bn: Loss: 0.0693\tAccuracy: 9805.0/10000 (98%)\n",
      "\n",
      "Train Epoch: 13 [0/50000 (0%)]\tLosses bn: 0.052305\n",
      "Train Epoch: 13 [10000/50000 (20%)]\tLosses bn: 0.016645\n",
      "Train Epoch: 13 [20000/50000 (40%)]\tLosses bn: 0.039911\n",
      "Train Epoch: 13 [30000/50000 (60%)]\tLosses bn: 0.024641\n",
      "Train Epoch: 13 [40000/50000 (80%)]\tLosses bn: 0.045169\n",
      "Train Epoch: 13 [50000/50000 (100%)]\tLosses bn: 0.026468\n",
      "Test set:\n",
      "bn: Loss: 0.0680\tAccuracy: 9796.0/10000 (98%)\n",
      "\n",
      "Train Epoch: 14 [0/50000 (0%)]\tLosses bn: 0.085649\n",
      "Train Epoch: 14 [10000/50000 (20%)]\tLosses bn: 0.077563\n",
      "Train Epoch: 14 [20000/50000 (40%)]\tLosses bn: 0.066681\n",
      "Train Epoch: 14 [30000/50000 (60%)]\tLosses bn: 0.020105\n",
      "Train Epoch: 14 [40000/50000 (80%)]\tLosses bn: 0.040259\n",
      "Train Epoch: 14 [50000/50000 (100%)]\tLosses bn: 0.036048\n",
      "Test set:\n",
      "bn: Loss: 0.0627\tAccuracy: 9809.0/10000 (98%)\n",
      "\n",
      "Train Epoch: 15 [0/50000 (0%)]\tLosses bn: 0.063250\n",
      "Train Epoch: 15 [10000/50000 (20%)]\tLosses bn: 0.092136\n",
      "Train Epoch: 15 [20000/50000 (40%)]\tLosses bn: 0.042565\n",
      "Train Epoch: 15 [30000/50000 (60%)]\tLosses bn: 0.029283\n",
      "Train Epoch: 15 [40000/50000 (80%)]\tLosses bn: 0.109331\n",
      "Train Epoch: 15 [50000/50000 (100%)]\tLosses bn: 0.046916\n",
      "Test set:\n",
      "bn: Loss: 0.0604\tAccuracy: 9814.0/10000 (98%)\n",
      "\n",
      "Train Epoch: 16 [0/50000 (0%)]\tLosses bn: 0.031510\n",
      "Train Epoch: 16 [10000/50000 (20%)]\tLosses bn: 0.058097\n",
      "Train Epoch: 16 [20000/50000 (40%)]\tLosses bn: 0.031527\n",
      "Train Epoch: 16 [30000/50000 (60%)]\tLosses bn: 0.068771\n",
      "Train Epoch: 16 [40000/50000 (80%)]\tLosses bn: 0.075390\n",
      "Train Epoch: 16 [50000/50000 (100%)]\tLosses bn: 0.021047\n",
      "Test set:\n",
      "bn: Loss: 0.0579\tAccuracy: 9818.0/10000 (98%)\n",
      "\n",
      "Train Epoch: 17 [0/50000 (0%)]\tLosses bn: 0.011506\n",
      "Train Epoch: 17 [10000/50000 (20%)]\tLosses bn: 0.038204\n",
      "Train Epoch: 17 [20000/50000 (40%)]\tLosses bn: 0.026088\n",
      "Train Epoch: 17 [30000/50000 (60%)]\tLosses bn: 0.035316\n",
      "Train Epoch: 17 [40000/50000 (80%)]\tLosses bn: 0.032997\n",
      "Train Epoch: 17 [50000/50000 (100%)]\tLosses bn: 0.028510\n",
      "Test set:\n",
      "bn: Loss: 0.0567\tAccuracy: 9828.0/10000 (98%)\n",
      "\n",
      "Train Epoch: 18 [0/50000 (0%)]\tLosses bn: 0.032869\n",
      "Train Epoch: 18 [10000/50000 (20%)]\tLosses bn: 0.077150\n",
      "Train Epoch: 18 [20000/50000 (40%)]\tLosses bn: 0.034001\n",
      "Train Epoch: 18 [30000/50000 (60%)]\tLosses bn: 0.048474\n",
      "Train Epoch: 18 [40000/50000 (80%)]\tLosses bn: 0.033227\n",
      "Train Epoch: 18 [50000/50000 (100%)]\tLosses bn: 0.074490\n",
      "Test set:\n",
      "bn: Loss: 0.0547\tAccuracy: 9835.0/10000 (98%)\n",
      "\n",
      "Train Epoch: 19 [0/50000 (0%)]\tLosses bn: 0.015487\n",
      "Train Epoch: 19 [10000/50000 (20%)]\tLosses bn: 0.054655\n",
      "Train Epoch: 19 [20000/50000 (40%)]\tLosses bn: 0.036209\n",
      "Train Epoch: 19 [30000/50000 (60%)]\tLosses bn: 0.026286\n",
      "Train Epoch: 19 [40000/50000 (80%)]\tLosses bn: 0.010085\n",
      "Train Epoch: 19 [50000/50000 (100%)]\tLosses bn: 0.012556\n",
      "Test set:\n",
      "bn: Loss: 0.0540\tAccuracy: 9829.0/10000 (98%)\n",
      "\n",
      "Train Epoch: 20 [0/50000 (0%)]\tLosses bn: 0.050950\n",
      "Train Epoch: 20 [10000/50000 (20%)]\tLosses bn: 0.053222\n",
      "Train Epoch: 20 [20000/50000 (40%)]\tLosses bn: 0.007000\n",
      "Train Epoch: 20 [30000/50000 (60%)]\tLosses bn: 0.059281\n",
      "Train Epoch: 20 [40000/50000 (80%)]\tLosses bn: 0.032636\n",
      "Train Epoch: 20 [50000/50000 (100%)]\tLosses bn: 0.012585\n",
      "Test set:\n",
      "bn: Loss: 0.0520\tAccuracy: 9845.0/10000 (98%)\n",
      "\n",
      "Train Epoch: 21 [0/50000 (0%)]\tLosses bn: 0.014488\n",
      "Train Epoch: 21 [10000/50000 (20%)]\tLosses bn: 0.049898\n",
      "Train Epoch: 21 [20000/50000 (40%)]\tLosses bn: 0.041372\n",
      "Train Epoch: 21 [30000/50000 (60%)]\tLosses bn: 0.015466\n",
      "Train Epoch: 21 [40000/50000 (80%)]\tLosses bn: 0.064646\n",
      "Train Epoch: 21 [50000/50000 (100%)]\tLosses bn: 0.025965\n",
      "Test set:\n",
      "bn: Loss: 0.0514\tAccuracy: 9844.0/10000 (98%)\n",
      "\n",
      "Train Epoch: 22 [0/50000 (0%)]\tLosses bn: 0.114376\n",
      "Train Epoch: 22 [10000/50000 (20%)]\tLosses bn: 0.096509\n"
     ]
    },
    {
     "name": "stdout",
     "output_type": "stream",
     "text": [
      "Train Epoch: 22 [20000/50000 (40%)]\tLosses bn: 0.050494\n",
      "Train Epoch: 22 [30000/50000 (60%)]\tLosses bn: 0.023133\n",
      "Train Epoch: 22 [40000/50000 (80%)]\tLosses bn: 0.078230\n",
      "Train Epoch: 22 [50000/50000 (100%)]\tLosses bn: 0.078550\n",
      "Test set:\n",
      "bn: Loss: 0.0501\tAccuracy: 9847.0/10000 (98%)\n",
      "\n",
      "Train Epoch: 23 [0/50000 (0%)]\tLosses bn: 0.015795\n",
      "Train Epoch: 23 [10000/50000 (20%)]\tLosses bn: 0.029331\n",
      "Train Epoch: 23 [20000/50000 (40%)]\tLosses bn: 0.022766\n",
      "Train Epoch: 23 [30000/50000 (60%)]\tLosses bn: 0.035856\n",
      "Train Epoch: 23 [40000/50000 (80%)]\tLosses bn: 0.036320\n",
      "Train Epoch: 23 [50000/50000 (100%)]\tLosses bn: 0.105180\n",
      "Test set:\n",
      "bn: Loss: 0.0482\tAccuracy: 9851.0/10000 (99%)\n",
      "\n",
      "Train Epoch: 24 [0/50000 (0%)]\tLosses bn: 0.063532\n",
      "Train Epoch: 24 [10000/50000 (20%)]\tLosses bn: 0.017157\n",
      "Train Epoch: 24 [20000/50000 (40%)]\tLosses bn: 0.058101\n",
      "Train Epoch: 24 [30000/50000 (60%)]\tLosses bn: 0.012649\n",
      "Train Epoch: 24 [40000/50000 (80%)]\tLosses bn: 0.006260\n",
      "Train Epoch: 24 [50000/50000 (100%)]\tLosses bn: 0.006245\n",
      "Test set:\n",
      "bn: Loss: 0.0494\tAccuracy: 9852.0/10000 (99%)\n",
      "\n",
      "Train Epoch: 25 [0/50000 (0%)]\tLosses bn: 0.030499\n",
      "Train Epoch: 25 [10000/50000 (20%)]\tLosses bn: 0.011934\n",
      "Train Epoch: 25 [20000/50000 (40%)]\tLosses bn: 0.021620\n",
      "Train Epoch: 25 [30000/50000 (60%)]\tLosses bn: 0.019464\n",
      "Train Epoch: 25 [40000/50000 (80%)]\tLosses bn: 0.030271\n",
      "Train Epoch: 25 [50000/50000 (100%)]\tLosses bn: 0.096331\n",
      "Test set:\n",
      "bn: Loss: 0.0466\tAccuracy: 9861.0/10000 (99%)\n",
      "\n",
      "Train Epoch: 26 [0/50000 (0%)]\tLosses bn: 0.057586\n",
      "Train Epoch: 26 [10000/50000 (20%)]\tLosses bn: 0.050809\n",
      "Train Epoch: 26 [20000/50000 (40%)]\tLosses bn: 0.027989\n",
      "Train Epoch: 26 [30000/50000 (60%)]\tLosses bn: 0.003436\n",
      "Train Epoch: 26 [40000/50000 (80%)]\tLosses bn: 0.039185\n",
      "Train Epoch: 26 [50000/50000 (100%)]\tLosses bn: 0.004910\n",
      "Test set:\n",
      "bn: Loss: 0.0459\tAccuracy: 9864.0/10000 (99%)\n",
      "\n",
      "Train Epoch: 27 [0/50000 (0%)]\tLosses bn: 0.047868\n",
      "Train Epoch: 27 [10000/50000 (20%)]\tLosses bn: 0.018603\n",
      "Train Epoch: 27 [20000/50000 (40%)]\tLosses bn: 0.038747\n",
      "Train Epoch: 27 [30000/50000 (60%)]\tLosses bn: 0.052960\n",
      "Train Epoch: 27 [40000/50000 (80%)]\tLosses bn: 0.002714\n",
      "Train Epoch: 27 [50000/50000 (100%)]\tLosses bn: 0.023049\n",
      "Test set:\n",
      "bn: Loss: 0.0472\tAccuracy: 9856.0/10000 (99%)\n",
      "\n",
      "Train Epoch: 28 [0/50000 (0%)]\tLosses bn: 0.010673\n",
      "Train Epoch: 28 [10000/50000 (20%)]\tLosses bn: 0.008254\n",
      "Train Epoch: 28 [20000/50000 (40%)]\tLosses bn: 0.025725\n",
      "Train Epoch: 28 [30000/50000 (60%)]\tLosses bn: 0.020146\n",
      "Train Epoch: 28 [40000/50000 (80%)]\tLosses bn: 0.018209\n",
      "Train Epoch: 28 [50000/50000 (100%)]\tLosses bn: 0.016349\n",
      "Test set:\n",
      "bn: Loss: 0.0447\tAccuracy: 9864.0/10000 (99%)\n",
      "\n",
      "Train Epoch: 29 [0/50000 (0%)]\tLosses bn: 0.040724\n",
      "Train Epoch: 29 [10000/50000 (20%)]\tLosses bn: 0.008469\n",
      "Train Epoch: 29 [20000/50000 (40%)]\tLosses bn: 0.003032\n",
      "Train Epoch: 29 [30000/50000 (60%)]\tLosses bn: 0.016579\n",
      "Train Epoch: 29 [40000/50000 (80%)]\tLosses bn: 0.003566\n",
      "Train Epoch: 29 [50000/50000 (100%)]\tLosses bn: 0.017340\n",
      "Test set:\n",
      "bn: Loss: 0.0457\tAccuracy: 9857.0/10000 (99%)\n",
      "\n",
      "Train Epoch: 30 [0/50000 (0%)]\tLosses bn: 0.002988\n",
      "Train Epoch: 30 [10000/50000 (20%)]\tLosses bn: 0.038735\n",
      "Train Epoch: 30 [20000/50000 (40%)]\tLosses bn: 0.007634\n",
      "Train Epoch: 30 [30000/50000 (60%)]\tLosses bn: 0.039731\n",
      "Train Epoch: 30 [40000/50000 (80%)]\tLosses bn: 0.002721\n",
      "Train Epoch: 30 [50000/50000 (100%)]\tLosses bn: 0.009340\n",
      "Test set:\n",
      "bn: Loss: 0.0436\tAccuracy: 9867.0/10000 (99%)\n",
      "\n",
      "Train Epoch: 31 [0/50000 (0%)]\tLosses bn: 0.080872\n",
      "Train Epoch: 31 [10000/50000 (20%)]\tLosses bn: 0.052655\n",
      "Train Epoch: 31 [20000/50000 (40%)]\tLosses bn: 0.174057\n",
      "Train Epoch: 31 [30000/50000 (60%)]\tLosses bn: 0.005425\n",
      "Train Epoch: 31 [40000/50000 (80%)]\tLosses bn: 0.001244\n",
      "Train Epoch: 31 [50000/50000 (100%)]\tLosses bn: 0.044656\n",
      "Test set:\n",
      "bn: Loss: 0.0439\tAccuracy: 9871.0/10000 (99%)\n",
      "\n",
      "Train Epoch: 32 [0/50000 (0%)]\tLosses bn: 0.013062\n",
      "Train Epoch: 32 [10000/50000 (20%)]\tLosses bn: 0.001605\n",
      "Train Epoch: 32 [20000/50000 (40%)]\tLosses bn: 0.014284\n",
      "Train Epoch: 32 [30000/50000 (60%)]\tLosses bn: 0.041799\n",
      "Train Epoch: 32 [40000/50000 (80%)]\tLosses bn: 0.019507\n",
      "Train Epoch: 32 [50000/50000 (100%)]\tLosses bn: 0.008123\n",
      "Test set:\n",
      "bn: Loss: 0.0427\tAccuracy: 9870.0/10000 (99%)\n",
      "\n",
      "Train Epoch: 33 [0/50000 (0%)]\tLosses bn: 0.008490\n",
      "Train Epoch: 33 [10000/50000 (20%)]\tLosses bn: 0.009833\n",
      "Train Epoch: 33 [20000/50000 (40%)]\tLosses bn: 0.010290\n",
      "Train Epoch: 33 [30000/50000 (60%)]\tLosses bn: 0.011638\n",
      "Train Epoch: 33 [40000/50000 (80%)]\tLosses bn: 0.005086\n",
      "Train Epoch: 33 [50000/50000 (100%)]\tLosses bn: 0.031890\n",
      "Test set:\n",
      "bn: Loss: 0.0430\tAccuracy: 9866.0/10000 (99%)\n",
      "\n",
      "Train Epoch: 34 [0/50000 (0%)]\tLosses bn: 0.001674\n",
      "Train Epoch: 34 [10000/50000 (20%)]\tLosses bn: 0.009044\n",
      "Train Epoch: 34 [20000/50000 (40%)]\tLosses bn: 0.013837\n",
      "Train Epoch: 34 [30000/50000 (60%)]\tLosses bn: 0.008539\n",
      "Train Epoch: 34 [40000/50000 (80%)]\tLosses bn: 0.008858\n",
      "Train Epoch: 34 [50000/50000 (100%)]\tLosses bn: 0.005726\n",
      "Test set:\n",
      "bn: Loss: 0.0433\tAccuracy: 9871.0/10000 (99%)\n",
      "\n",
      "Train Epoch: 35 [0/50000 (0%)]\tLosses bn: 0.024477\n",
      "Train Epoch: 35 [10000/50000 (20%)]\tLosses bn: 0.027440\n",
      "Train Epoch: 35 [20000/50000 (40%)]\tLosses bn: 0.046253\n",
      "Train Epoch: 35 [30000/50000 (60%)]\tLosses bn: 0.009701\n",
      "Train Epoch: 35 [40000/50000 (80%)]\tLosses bn: 0.006239\n",
      "Train Epoch: 35 [50000/50000 (100%)]\tLosses bn: 0.050410\n",
      "Test set:\n",
      "bn: Loss: 0.0415\tAccuracy: 9881.0/10000 (99%)\n",
      "\n",
      "Train Epoch: 36 [0/50000 (0%)]\tLosses bn: 0.033659\n",
      "Train Epoch: 36 [10000/50000 (20%)]\tLosses bn: 0.007366\n",
      "Train Epoch: 36 [20000/50000 (40%)]\tLosses bn: 0.015019\n",
      "Train Epoch: 36 [30000/50000 (60%)]\tLosses bn: 0.010442\n",
      "Train Epoch: 36 [40000/50000 (80%)]\tLosses bn: 0.018809\n",
      "Train Epoch: 36 [50000/50000 (100%)]\tLosses bn: 0.005401\n",
      "Test set:\n",
      "bn: Loss: 0.0424\tAccuracy: 9867.0/10000 (99%)\n",
      "\n",
      "Train Epoch: 37 [0/50000 (0%)]\tLosses bn: 0.007802\n",
      "Train Epoch: 37 [10000/50000 (20%)]\tLosses bn: 0.010405\n",
      "Train Epoch: 37 [20000/50000 (40%)]\tLosses bn: 0.007917\n",
      "Train Epoch: 37 [30000/50000 (60%)]\tLosses bn: 0.014799\n",
      "Train Epoch: 37 [40000/50000 (80%)]\tLosses bn: 0.052251\n",
      "Train Epoch: 37 [50000/50000 (100%)]\tLosses bn: 0.013119\n",
      "Test set:\n",
      "bn: Loss: 0.0420\tAccuracy: 9872.0/10000 (99%)\n",
      "\n",
      "Train Epoch: 38 [0/50000 (0%)]\tLosses bn: 0.017957\n",
      "Train Epoch: 38 [10000/50000 (20%)]\tLosses bn: 0.001420\n",
      "Train Epoch: 38 [20000/50000 (40%)]\tLosses bn: 0.007363\n",
      "Train Epoch: 38 [30000/50000 (60%)]\tLosses bn: 0.010961\n",
      "Train Epoch: 38 [40000/50000 (80%)]\tLosses bn: 0.015388\n",
      "Train Epoch: 38 [50000/50000 (100%)]\tLosses bn: 0.018444\n",
      "Test set:\n",
      "bn: Loss: 0.0433\tAccuracy: 9874.0/10000 (99%)\n",
      "\n",
      "Train Epoch: 39 [0/50000 (0%)]\tLosses bn: 0.010541\n",
      "Train Epoch: 39 [10000/50000 (20%)]\tLosses bn: 0.041367\n",
      "Train Epoch: 39 [20000/50000 (40%)]\tLosses bn: 0.009245\n",
      "Train Epoch: 39 [30000/50000 (60%)]\tLosses bn: 0.005605\n",
      "Train Epoch: 39 [40000/50000 (80%)]\tLosses bn: 0.130932\n",
      "Train Epoch: 39 [50000/50000 (100%)]\tLosses bn: 0.005141\n",
      "Test set:\n",
      "bn: Loss: 0.0427\tAccuracy: 9873.0/10000 (99%)\n",
      "\n",
      "Train Epoch: 40 [0/50000 (0%)]\tLosses bn: 0.018262\n",
      "Train Epoch: 40 [10000/50000 (20%)]\tLosses bn: 0.050106\n",
      "Train Epoch: 40 [20000/50000 (40%)]\tLosses bn: 0.025915\n",
      "Train Epoch: 40 [30000/50000 (60%)]\tLosses bn: 0.011329\n",
      "Train Epoch: 40 [40000/50000 (80%)]\tLosses bn: 0.012128\n",
      "Train Epoch: 40 [50000/50000 (100%)]\tLosses bn: 0.010843\n",
      "Test set:\n",
      "bn: Loss: 0.0435\tAccuracy: 9870.0/10000 (99%)\n",
      "\n",
      "Train Epoch: 41 [0/50000 (0%)]\tLosses bn: 0.033137\n",
      "Train Epoch: 41 [10000/50000 (20%)]\tLosses bn: 0.021822\n",
      "Train Epoch: 41 [20000/50000 (40%)]\tLosses bn: 0.017140\n",
      "Train Epoch: 41 [30000/50000 (60%)]\tLosses bn: 0.031369\n",
      "Train Epoch: 41 [40000/50000 (80%)]\tLosses bn: 0.009497\n",
      "Train Epoch: 41 [50000/50000 (100%)]\tLosses bn: 0.017737\n",
      "Test set:\n",
      "bn: Loss: 0.0411\tAccuracy: 9876.0/10000 (99%)\n",
      "\n",
      "Train Epoch: 42 [0/50000 (0%)]\tLosses bn: 0.013202\n",
      "Train Epoch: 42 [10000/50000 (20%)]\tLosses bn: 0.016062\n",
      "Train Epoch: 42 [20000/50000 (40%)]\tLosses bn: 0.020950\n",
      "Train Epoch: 42 [30000/50000 (60%)]\tLosses bn: 0.006729\n",
      "Train Epoch: 42 [40000/50000 (80%)]\tLosses bn: 0.028993\n",
      "Train Epoch: 42 [50000/50000 (100%)]\tLosses bn: 0.022512\n",
      "Test set:\n",
      "bn: Loss: 0.0399\tAccuracy: 9888.0/10000 (99%)\n",
      "\n",
      "Train Epoch: 43 [0/50000 (0%)]\tLosses bn: 0.010755\n",
      "Train Epoch: 43 [10000/50000 (20%)]\tLosses bn: 0.012872\n",
      "Train Epoch: 43 [20000/50000 (40%)]\tLosses bn: 0.022265\n"
     ]
    },
    {
     "name": "stdout",
     "output_type": "stream",
     "text": [
      "Train Epoch: 43 [30000/50000 (60%)]\tLosses bn: 0.047457\n",
      "Train Epoch: 43 [40000/50000 (80%)]\tLosses bn: 0.016374\n",
      "Train Epoch: 43 [50000/50000 (100%)]\tLosses bn: 0.012435\n",
      "Test set:\n",
      "bn: Loss: 0.0407\tAccuracy: 9872.0/10000 (99%)\n",
      "\n",
      "Train Epoch: 44 [0/50000 (0%)]\tLosses bn: 0.028361\n",
      "Train Epoch: 44 [10000/50000 (20%)]\tLosses bn: 0.001484\n",
      "Train Epoch: 44 [20000/50000 (40%)]\tLosses bn: 0.029511\n",
      "Train Epoch: 44 [30000/50000 (60%)]\tLosses bn: 0.014999\n",
      "Train Epoch: 44 [40000/50000 (80%)]\tLosses bn: 0.005467\n",
      "Train Epoch: 44 [50000/50000 (100%)]\tLosses bn: 0.008580\n",
      "Test set:\n",
      "bn: Loss: 0.0396\tAccuracy: 9886.0/10000 (99%)\n",
      "\n",
      "Train Epoch: 45 [0/50000 (0%)]\tLosses bn: 0.005840\n",
      "Train Epoch: 45 [10000/50000 (20%)]\tLosses bn: 0.037554\n",
      "Train Epoch: 45 [20000/50000 (40%)]\tLosses bn: 0.001826\n",
      "Train Epoch: 45 [30000/50000 (60%)]\tLosses bn: 0.023820\n",
      "Train Epoch: 45 [40000/50000 (80%)]\tLosses bn: 0.009959\n",
      "Train Epoch: 45 [50000/50000 (100%)]\tLosses bn: 0.009071\n",
      "Test set:\n",
      "bn: Loss: 0.0405\tAccuracy: 9881.0/10000 (99%)\n",
      "\n",
      "Train Epoch: 46 [0/50000 (0%)]\tLosses bn: 0.006863\n",
      "Train Epoch: 46 [10000/50000 (20%)]\tLosses bn: 0.005144\n",
      "Train Epoch: 46 [20000/50000 (40%)]\tLosses bn: 0.017061\n",
      "Train Epoch: 46 [30000/50000 (60%)]\tLosses bn: 0.010931\n",
      "Train Epoch: 46 [40000/50000 (80%)]\tLosses bn: 0.009338\n",
      "Train Epoch: 46 [50000/50000 (100%)]\tLosses bn: 0.017066\n",
      "Test set:\n",
      "bn: Loss: 0.0418\tAccuracy: 9867.0/10000 (99%)\n",
      "\n",
      "Train Epoch: 47 [0/50000 (0%)]\tLosses bn: 0.004640\n",
      "Train Epoch: 47 [10000/50000 (20%)]\tLosses bn: 0.004153\n",
      "Train Epoch: 47 [20000/50000 (40%)]\tLosses bn: 0.083171\n",
      "Train Epoch: 47 [30000/50000 (60%)]\tLosses bn: 0.001863\n",
      "Train Epoch: 47 [40000/50000 (80%)]\tLosses bn: 0.001582\n",
      "Train Epoch: 47 [50000/50000 (100%)]\tLosses bn: 0.017322\n",
      "Test set:\n",
      "bn: Loss: 0.0414\tAccuracy: 9875.0/10000 (99%)\n",
      "\n",
      "Train Epoch: 48 [0/50000 (0%)]\tLosses bn: 0.030571\n",
      "Train Epoch: 48 [10000/50000 (20%)]\tLosses bn: 0.010504\n",
      "Train Epoch: 48 [20000/50000 (40%)]\tLosses bn: 0.016500\n",
      "Train Epoch: 48 [30000/50000 (60%)]\tLosses bn: 0.014329\n",
      "Train Epoch: 48 [40000/50000 (80%)]\tLosses bn: 0.002794\n",
      "Train Epoch: 48 [50000/50000 (100%)]\tLosses bn: 0.066164\n",
      "Test set:\n",
      "bn: Loss: 0.0429\tAccuracy: 9872.0/10000 (99%)\n",
      "\n",
      "Train Epoch: 49 [0/50000 (0%)]\tLosses bn: 0.020893\n",
      "Train Epoch: 49 [10000/50000 (20%)]\tLosses bn: 0.016474\n",
      "Train Epoch: 49 [20000/50000 (40%)]\tLosses bn: 0.003400\n",
      "Train Epoch: 49 [30000/50000 (60%)]\tLosses bn: 0.017937\n",
      "Train Epoch: 49 [40000/50000 (80%)]\tLosses bn: 0.016329\n",
      "Train Epoch: 49 [50000/50000 (100%)]\tLosses bn: 0.023619\n",
      "Test set:\n",
      "bn: Loss: 0.0411\tAccuracy: 9875.0/10000 (99%)\n",
      "\n",
      "Train Epoch: 50 [0/50000 (0%)]\tLosses bn: 0.070945\n",
      "Train Epoch: 50 [10000/50000 (20%)]\tLosses bn: 0.031259\n",
      "Train Epoch: 50 [20000/50000 (40%)]\tLosses bn: 0.013822\n",
      "Train Epoch: 50 [30000/50000 (60%)]\tLosses bn: 0.022256\n",
      "Train Epoch: 50 [40000/50000 (80%)]\tLosses bn: 0.018971\n",
      "Train Epoch: 50 [50000/50000 (100%)]\tLosses bn: 0.009741\n",
      "Test set:\n",
      "bn: Loss: 0.0412\tAccuracy: 9875.0/10000 (99%)\n",
      "\n"
     ]
    }
   ],
   "source": [
    "for epoch in range(1, 51):\n",
    "    for model in models.values():\n",
    "        model.train()\n",
    "    train(epoch, models, train_log)\n",
    "    for model in models.values():\n",
    "        model.eval()\n",
    "    test(models, valid_loader, test_log)"
   ]
  },
  {
   "cell_type": "code",
   "execution_count": 182,
   "metadata": {},
   "outputs": [
    {
     "data": {
      "image/png": "[encoded data removed]",
      "text/plain": [
       "<Figure size 432x288 with 1 Axes>"
      ]
     },
     "metadata": {},
     "output_type": "display_data"
    }
   ],
   "source": [
    "plot_graphs(test_log, 'loss')"
   ]
  },
  {
   "cell_type": "code",
   "execution_count": 183,
   "metadata": {},
   "outputs": [
    {
     "data": {
      "image/png": "[encoded data removed]",
      "text/plain": [
       "<Figure size 432x288 with 1 Axes>"
      ]
     },
     "metadata": {},
     "output_type": "display_data"
    }
   ],
   "source": [
    "plot_graphs(test_log, 'accuracy')"
   ]
  },
  {
   "cell_type": "code",
   "execution_count": 184,
   "metadata": {},
   "outputs": [
    {
     "data": {
      "image/png": "[encoded data removed]",
      "text/plain": [
       "<Figure size 800x400 with 50 Axes>"
      ]
     },
     "metadata": {},
     "output_type": "display_data"
    },
    {
     "name": "stdout",
     "output_type": "stream",
     "text": [
      "tensor([ -1.0237, -10.7457,  -8.7308,  -8.9743,  -6.0703,  -0.6193,  13.0090,\n",
      "        -15.0947,  -1.2053,  -7.3225], grad_fn=<SelectBackward>)\n"
     ]
    }
   ],
   "source": [
    "data, label = next(iter(train_loader))\n",
    "plot_mnist(data.data.numpy(), (5, 10))\n",
    "output = models['bn'](data)\n",
    "output.size()\n",
    "print(output[0])\n",
    "#to_plot = output.view(-1, 1, 28, 28).clamp(0, 1).data.numpy()\n",
    "#plot_mnist(to_plot, (5, 10))"
   ]
  },
  {
   "cell_type": "markdown",
   "metadata": {},
   "source": [
    "### Adversarial attack"
   ]
  },
  {
   "cell_type": "code",
   "execution_count": 190,
   "metadata": {},
   "outputs": [],
   "source": [
    "path='./MNIST_data'\n",
    "from torch.utils.data import DataLoader\n",
    "train_dataset = torchvision.datasets.MNIST(root = path, train=True, transform=mnist_transform, download=True) \n",
    "train_loader_1 = DataLoader(dataset=train_dataset, batch_size=1,shuffle=True) \n",
    "data_1_load, label_1 = next(iter(train_loader_1))"
   ]
  },
  {
   "cell_type": "code",
   "execution_count": 191,
   "metadata": {},
   "outputs": [
    {
     "name": "stdout",
     "output_type": "stream",
     "text": [
      "-0.4242129623889923\n",
      "2.821486711502075\n"
     ]
    }
   ],
   "source": [
    "# Нормализованный мнист\n",
    "print(data_1_load.min().item())\n",
    "print(data_1_load.max().item())"
   ]
  },
  {
   "cell_type": "code",
   "execution_count": 194,
   "metadata": {},
   "outputs": [],
   "source": [
    "# Целевой пусть будет циферка :\n",
    "target = torch.tensor([4])"
   ]
  },
  {
   "cell_type": "code",
   "execution_count": 196,
   "metadata": {},
   "outputs": [
    {
     "name": "stderr",
     "output_type": "stream",
     "text": [
      "/opt/conda/lib/python3.6/site-packages/ipykernel_launcher.py:7: UserWarning: To copy construct from a tensor, it is recommended to use sourceTensor.clone().detach() or sourceTensor.clone().detach().requires_grad_(True), rather than torch.tensor(sourceTensor).\n",
      "  import sys\n"
     ]
    },
    {
     "data": {
      "image/png": "[encoded data removed]",
      "text/plain": [
       "<Figure size 800x400 with 1 Axes>"
      ]
     },
     "metadata": {},
     "output_type": "display_data"
    },
    {
     "name": "stdout",
     "output_type": "stream",
     "text": [
      "5.61583137512207\n"
     ]
    },
    {
     "data": {
      "image/png": "[encoded data removed]",
      "text/plain": [
       "<Figure size 800x400 with 1 Axes>"
      ]
     },
     "metadata": {},
     "output_type": "display_data"
    },
    {
     "name": "stdout",
     "output_type": "stream",
     "text": [
      "2.673966407775879\n"
     ]
    },
    {
     "data": {
      "image/png": "[encoded data removed]",
      "text/plain": [
       "<Figure size 800x400 with 1 Axes>"
      ]
     },
     "metadata": {},
     "output_type": "display_data"
    },
    {
     "name": "stdout",
     "output_type": "stream",
     "text": [
      "0.7839491367340088\n"
     ]
    },
    {
     "data": {
      "image/png": "[encoded data removed]",
      "text/plain": [
       "<Figure size 800x400 with 1 Axes>"
      ]
     },
     "metadata": {},
     "output_type": "display_data"
    },
    {
     "name": "stdout",
     "output_type": "stream",
     "text": [
      "0.10082006454467773\n"
     ]
    },
    {
     "data": {
      "image/png": "[encoded data removed]",
      "text/plain": [
       "<Figure size 800x400 with 1 Axes>"
      ]
     },
     "metadata": {},
     "output_type": "display_data"
    },
    {
     "name": "stdout",
     "output_type": "stream",
     "text": [
      "0.012239456176757812\n"
     ]
    },
    {
     "data": {
      "image/png": "[encoded data removed]",
      "text/plain": [
       "<Figure size 800x400 with 1 Axes>"
      ]
     },
     "metadata": {},
     "output_type": "display_data"
    },
    {
     "name": "stdout",
     "output_type": "stream",
     "text": [
      "0.0013833045959472656\n"
     ]
    },
    {
     "data": {
      "image/png": "[encoded data removed]",
      "text/plain": [
       "<Figure size 800x400 with 1 Axes>"
      ]
     },
     "metadata": {},
     "output_type": "display_data"
    },
    {
     "name": "stdout",
     "output_type": "stream",
     "text": [
      "0.0001811981201171875\n"
     ]
    },
    {
     "data": {
      "image/png": "[encoded data removed]",
      "text/plain": [
       "<Figure size 800x400 with 1 Axes>"
      ]
     },
     "metadata": {},
     "output_type": "display_data"
    },
    {
     "name": "stdout",
     "output_type": "stream",
     "text": [
      "2.002716064453125e-05\n"
     ]
    },
    {
     "data": {
      "image/png": "[encoded data removed]",
      "text/plain": [
       "<Figure size 800x400 with 1 Axes>"
      ]
     },
     "metadata": {},
     "output_type": "display_data"
    },
    {
     "name": "stdout",
     "output_type": "stream",
     "text": [
      "5.7220458984375e-06\n"
     ]
    },
    {
     "data": {
      "image/png": "[encoded data removed]",
      "text/plain": [
       "<Figure size 800x400 with 1 Axes>"
      ]
     },
     "metadata": {},
     "output_type": "display_data"
    },
    {
     "name": "stdout",
     "output_type": "stream",
     "text": [
      "1.9073486328125e-06\n"
     ]
    },
    {
     "data": {
      "image/png": "[encoded data removed]",
      "text/plain": [
       "<Figure size 800x400 with 1 Axes>"
      ]
     },
     "metadata": {},
     "output_type": "display_data"
    },
    {
     "name": "stdout",
     "output_type": "stream",
     "text": [
      "9.5367431640625e-07\n"
     ]
    },
    {
     "data": {
      "image/png": "[encoded data removed]",
      "text/plain": [
       "<Figure size 800x400 with 1 Axes>"
      ]
     },
     "metadata": {},
     "output_type": "display_data"
    },
    {
     "name": "stdout",
     "output_type": "stream",
     "text": [
      "9.5367431640625e-07\n"
     ]
    },
    {
     "data": {
      "image/png": "[encoded data removed]",
      "text/plain": [
       "<Figure size 800x400 with 1 Axes>"
      ]
     },
     "metadata": {},
     "output_type": "display_data"
    },
    {
     "name": "stdout",
     "output_type": "stream",
     "text": [
      "9.5367431640625e-07\n"
     ]
    },
    {
     "data": {
      "image/png": "[encoded data removed]",
      "text/plain": [
       "<Figure size 800x400 with 1 Axes>"
      ]
     },
     "metadata": {},
     "output_type": "display_data"
    },
    {
     "name": "stdout",
     "output_type": "stream",
     "text": [
      "9.5367431640625e-07\n"
     ]
    },
    {
     "data": {
      "image/png": "[encoded data removed]",
      "text/plain": [
       "<Figure size 800x400 with 1 Axes>"
      ]
     },
     "metadata": {},
     "output_type": "display_data"
    },
    {
     "name": "stdout",
     "output_type": "stream",
     "text": [
      "9.5367431640625e-07\n"
     ]
    },
    {
     "data": {
      "image/png": "[encoded data removed]",
      "text/plain": [
       "<Figure size 800x400 with 1 Axes>"
      ]
     },
     "metadata": {},
     "output_type": "display_data"
    },
    {
     "name": "stdout",
     "output_type": "stream",
     "text": [
      "9.5367431640625e-07\n"
     ]
    },
    {
     "data": {
      "image/png": "[encoded data removed]",
      "text/plain": [
       "<Figure size 800x400 with 1 Axes>"
      ]
     },
     "metadata": {},
     "output_type": "display_data"
    },
    {
     "name": "stdout",
     "output_type": "stream",
     "text": [
      "0.0\n"
     ]
    },
    {
     "data": {
      "image/png": "[encoded data removed]",
      "text/plain": [
       "<Figure size 800x400 with 1 Axes>"
      ]
     },
     "metadata": {},
     "output_type": "display_data"
    },
    {
     "name": "stdout",
     "output_type": "stream",
     "text": [
      "0.0\n"
     ]
    },
    {
     "data": {
      "image/png": "[encoded data removed]",
      "text/plain": [
       "<Figure size 800x400 with 1 Axes>"
      ]
     },
     "metadata": {},
     "output_type": "display_data"
    },
    {
     "name": "stdout",
     "output_type": "stream",
     "text": [
      "0.0\n"
     ]
    },
    {
     "data": {
      "image/png": "[encoded data removed]",
      "text/plain": [
       "<Figure size 800x400 with 1 Axes>"
      ]
     },
     "metadata": {},
     "output_type": "display_data"
    },
    {
     "name": "stdout",
     "output_type": "stream",
     "text": [
      "0.0\n"
     ]
    },
    {
     "data": {
      "image/png": "[encoded data removed]",
      "text/plain": [
       "<Figure size 800x400 with 1 Axes>"
      ]
     },
     "metadata": {},
     "output_type": "display_data"
    },
    {
     "name": "stdout",
     "output_type": "stream",
     "text": [
      "0.0\n"
     ]
    },
    {
     "data": {
      "image/png": "[encoded data removed]",
      "text/plain": [
       "<Figure size 800x400 with 1 Axes>"
      ]
     },
     "metadata": {},
     "output_type": "display_data"
    },
    {
     "name": "stdout",
     "output_type": "stream",
     "text": [
      "0.0\n"
     ]
    },
    {
     "data": {
      "image/png": "[encoded data removed]",
      "text/plain": [
       "<Figure size 800x400 with 1 Axes>"
      ]
     },
     "metadata": {},
     "output_type": "display_data"
    },
    {
     "name": "stdout",
     "output_type": "stream",
     "text": [
      "0.0\n"
     ]
    },
    {
     "data": {
      "image/png": "[encoded data removed]",
      "text/plain": [
       "<Figure size 800x400 with 1 Axes>"
      ]
     },
     "metadata": {},
     "output_type": "display_data"
    },
    {
     "name": "stdout",
     "output_type": "stream",
     "text": [
      "0.0\n"
     ]
    },
    {
     "data": {
      "image/png": "[encoded data removed]",
      "text/plain": [
       "<Figure size 800x400 with 1 Axes>"
      ]
     },
     "metadata": {},
     "output_type": "display_data"
    },
    {
     "name": "stdout",
     "output_type": "stream",
     "text": [
      "0.0\n"
     ]
    },
    {
     "data": {
      "image/png": "[encoded data removed]",
      "text/plain": [
       "<Figure size 800x400 with 1 Axes>"
      ]
     },
     "metadata": {},
     "output_type": "display_data"
    },
    {
     "name": "stdout",
     "output_type": "stream",
     "text": [
      "0.0\n"
     ]
    },
    {
     "data": {
      "image/png": "[encoded data removed]",
      "text/plain": [
       "<Figure size 800x400 with 1 Axes>"
      ]
     },
     "metadata": {},
     "output_type": "display_data"
    },
    {
     "name": "stdout",
     "output_type": "stream",
     "text": [
      "0.0\n"
     ]
    },
    {
     "data": {
      "image/png": "[encoded data removed]",
      "text/plain": [
       "<Figure size 800x400 with 1 Axes>"
      ]
     },
     "metadata": {},
     "output_type": "display_data"
    },
    {
     "name": "stdout",
     "output_type": "stream",
     "text": [
      "0.0\n"
     ]
    },
    {
     "data": {
      "image/png": "[encoded data removed]",
      "text/plain": [
       "<Figure size 800x400 with 1 Axes>"
      ]
     },
     "metadata": {},
     "output_type": "display_data"
    },
    {
     "name": "stdout",
     "output_type": "stream",
     "text": [
      "0.0\n"
     ]
    },
    {
     "data": {
      "image/png": "[encoded data removed]",
      "text/plain": [
       "<Figure size 800x400 with 1 Axes>"
      ]
     },
     "metadata": {},
     "output_type": "display_data"
    },
    {
     "name": "stdout",
     "output_type": "stream",
     "text": [
      "0.0\n"
     ]
    },
    {
     "data": {
      "image/png": "[encoded data removed]",
      "text/plain": [
       "<Figure size 800x400 with 1 Axes>"
      ]
     },
     "metadata": {},
     "output_type": "display_data"
    },
    {
     "name": "stdout",
     "output_type": "stream",
     "text": [
      "0.0\n"
     ]
    },
    {
     "data": {
      "image/png": "[encoded data removed]",
      "text/plain": [
       "<Figure size 800x400 with 1 Axes>"
      ]
     },
     "metadata": {},
     "output_type": "display_data"
    },
    {
     "name": "stdout",
     "output_type": "stream",
     "text": [
      "0.0\n"
     ]
    },
    {
     "data": {
      "image/png": "[encoded data removed]",
      "text/plain": [
       "<Figure size 800x400 with 1 Axes>"
      ]
     },
     "metadata": {},
     "output_type": "display_data"
    },
    {
     "name": "stdout",
     "output_type": "stream",
     "text": [
      "0.0\n"
     ]
    },
    {
     "data": {
      "image/png": "[encoded data removed]",
      "text/plain": [
       "<Figure size 800x400 with 1 Axes>"
      ]
     },
     "metadata": {},
     "output_type": "display_data"
    },
    {
     "name": "stdout",
     "output_type": "stream",
     "text": [
      "0.0\n"
     ]
    },
    {
     "data": {
      "image/png": "[encoded data removed]",
      "text/plain": [
       "<Figure size 800x400 with 1 Axes>"
      ]
     },
     "metadata": {},
     "output_type": "display_data"
    },
    {
     "name": "stdout",
     "output_type": "stream",
     "text": [
      "0.0\n"
     ]
    },
    {
     "data": {
      "image/png": "[encoded data removed]",
      "text/plain": [
       "<Figure size 800x400 with 1 Axes>"
      ]
     },
     "metadata": {},
     "output_type": "display_data"
    },
    {
     "name": "stdout",
     "output_type": "stream",
     "text": [
      "0.0\n"
     ]
    },
    {
     "data": {
      "image/png": "[encoded data removed]",
      "text/plain": [
       "<Figure size 800x400 with 1 Axes>"
      ]
     },
     "metadata": {},
     "output_type": "display_data"
    },
    {
     "name": "stdout",
     "output_type": "stream",
     "text": [
      "0.0\n"
     ]
    },
    {
     "data": {
      "image/png": "[encoded data removed]",
      "text/plain": [
       "<Figure size 800x400 with 1 Axes>"
      ]
     },
     "metadata": {},
     "output_type": "display_data"
    },
    {
     "name": "stdout",
     "output_type": "stream",
     "text": [
      "0.0\n"
     ]
    },
    {
     "data": {
      "image/png": "[encoded data removed]",
      "text/plain": [
       "<Figure size 800x400 with 1 Axes>"
      ]
     },
     "metadata": {},
     "output_type": "display_data"
    },
    {
     "name": "stdout",
     "output_type": "stream",
     "text": [
      "0.0\n"
     ]
    },
    {
     "data": {
      "image/png": "[encoded data removed]",
      "text/plain": [
       "<Figure size 800x400 with 1 Axes>"
      ]
     },
     "metadata": {},
     "output_type": "display_data"
    },
    {
     "name": "stdout",
     "output_type": "stream",
     "text": [
      "0.0\n"
     ]
    },
    {
     "data": {
      "image/png": "[encoded data removed]",
      "text/plain": [
       "<Figure size 800x400 with 1 Axes>"
      ]
     },
     "metadata": {},
     "output_type": "display_data"
    },
    {
     "name": "stdout",
     "output_type": "stream",
     "text": [
      "0.0\n"
     ]
    },
    {
     "data": {
      "image/png": "[encoded data removed]",
      "text/plain": [
       "<Figure size 800x400 with 1 Axes>"
      ]
     },
     "metadata": {},
     "output_type": "display_data"
    },
    {
     "name": "stdout",
     "output_type": "stream",
     "text": [
      "0.0\n"
     ]
    },
    {
     "data": {
      "image/png": "[encoded data removed]",
      "text/plain": [
       "<Figure size 800x400 with 1 Axes>"
      ]
     },
     "metadata": {},
     "output_type": "display_data"
    },
    {
     "name": "stdout",
     "output_type": "stream",
     "text": [
      "0.0\n"
     ]
    },
    {
     "data": {
      "image/png": "[encoded data removed]",
      "text/plain": [
       "<Figure size 800x400 with 1 Axes>"
      ]
     },
     "metadata": {},
     "output_type": "display_data"
    },
    {
     "name": "stdout",
     "output_type": "stream",
     "text": [
      "0.0\n"
     ]
    },
    {
     "ename": "KeyboardInterrupt",
     "evalue": "",
     "output_type": "error",
     "traceback": [
      "\u001b[0;31m---------------------------------------------------------------------------\u001b[0m",
      "\u001b[0;31mKeyboardInterrupt\u001b[0m                         Traceback (most recent call last)",
      "\u001b[0;32m<ipython-input-196-30c523b8ad40>\u001b[0m in \u001b[0;36m<module>\u001b[0;34m()\u001b[0m\n\u001b[1;32m     20\u001b[0m         \u001b[0;32mfor\u001b[0m \u001b[0mi\u001b[0m \u001b[0;32min\u001b[0m \u001b[0mrange\u001b[0m\u001b[0;34m(\u001b[0m\u001b[0mdata_1\u001b[0m\u001b[0;34m.\u001b[0m\u001b[0mshape\u001b[0m\u001b[0;34m[\u001b[0m\u001b[0;36m2\u001b[0m\u001b[0;34m]\u001b[0m\u001b[0;34m)\u001b[0m\u001b[0;34m:\u001b[0m\u001b[0;34m\u001b[0m\u001b[0m\n\u001b[1;32m     21\u001b[0m             \u001b[0;32mfor\u001b[0m \u001b[0mj\u001b[0m \u001b[0;32min\u001b[0m \u001b[0mrange\u001b[0m\u001b[0;34m(\u001b[0m\u001b[0mdata_1\u001b[0m\u001b[0;34m.\u001b[0m\u001b[0mshape\u001b[0m\u001b[0;34m[\u001b[0m\u001b[0;36m3\u001b[0m\u001b[0;34m]\u001b[0m\u001b[0;34m)\u001b[0m\u001b[0;34m:\u001b[0m\u001b[0;34m\u001b[0m\u001b[0m\n\u001b[0;32m---> 22\u001b[0;31m                 \u001b[0;32mif\u001b[0m \u001b[0mdata_1\u001b[0m\u001b[0;34m[\u001b[0m\u001b[0;36m0\u001b[0m\u001b[0;34m]\u001b[0m\u001b[0;34m[\u001b[0m\u001b[0;36m0\u001b[0m\u001b[0;34m]\u001b[0m\u001b[0;34m[\u001b[0m\u001b[0mi\u001b[0m\u001b[0;34m]\u001b[0m\u001b[0;34m[\u001b[0m\u001b[0mj\u001b[0m\u001b[0;34m]\u001b[0m \u001b[0;34m<\u001b[0m \u001b[0mdata_1_load\u001b[0m\u001b[0;34m.\u001b[0m\u001b[0mmin\u001b[0m\u001b[0;34m(\u001b[0m\u001b[0;34m)\u001b[0m\u001b[0;34m.\u001b[0m\u001b[0mitem\u001b[0m\u001b[0;34m(\u001b[0m\u001b[0;34m)\u001b[0m\u001b[0;34m:\u001b[0m\u001b[0;34m\u001b[0m\u001b[0m\n\u001b[0m\u001b[1;32m     23\u001b[0m                     \u001b[0mdata_1\u001b[0m\u001b[0;34m[\u001b[0m\u001b[0;36m0\u001b[0m\u001b[0;34m]\u001b[0m\u001b[0;34m[\u001b[0m\u001b[0;36m0\u001b[0m\u001b[0;34m]\u001b[0m\u001b[0;34m[\u001b[0m\u001b[0mi\u001b[0m\u001b[0;34m]\u001b[0m\u001b[0;34m[\u001b[0m\u001b[0mj\u001b[0m\u001b[0;34m]\u001b[0m \u001b[0;34m=\u001b[0m \u001b[0mdata_1_load\u001b[0m\u001b[0;34m.\u001b[0m\u001b[0mmin\u001b[0m\u001b[0;34m(\u001b[0m\u001b[0;34m)\u001b[0m\u001b[0;34m.\u001b[0m\u001b[0mitem\u001b[0m\u001b[0;34m(\u001b[0m\u001b[0;34m)\u001b[0m\u001b[0;34m\u001b[0m\u001b[0m\n\u001b[1;32m     24\u001b[0m                 \u001b[0;32mif\u001b[0m \u001b[0mdata_1\u001b[0m\u001b[0;34m[\u001b[0m\u001b[0;36m0\u001b[0m\u001b[0;34m]\u001b[0m\u001b[0;34m[\u001b[0m\u001b[0;36m0\u001b[0m\u001b[0;34m]\u001b[0m\u001b[0;34m[\u001b[0m\u001b[0mi\u001b[0m\u001b[0;34m]\u001b[0m\u001b[0;34m[\u001b[0m\u001b[0mj\u001b[0m\u001b[0;34m]\u001b[0m \u001b[0;34m>\u001b[0m \u001b[0mdata_1_load\u001b[0m\u001b[0;34m.\u001b[0m\u001b[0mmax\u001b[0m\u001b[0;34m(\u001b[0m\u001b[0;34m)\u001b[0m\u001b[0;34m.\u001b[0m\u001b[0mitem\u001b[0m\u001b[0;34m(\u001b[0m\u001b[0;34m)\u001b[0m\u001b[0;34m:\u001b[0m\u001b[0;34m\u001b[0m\u001b[0m\n",
      "\u001b[0;31mKeyboardInterrupt\u001b[0m: "
     ]
    }
   ],
   "source": [
    "# Test\n",
    "# Cross entropy with OPTIM.zero_grad()\n",
    "#lr = 0.03\n",
    "output_ar = []\n",
    "loss_arr = []\n",
    "grads = []\n",
    "data_1 = torch.tensor( data_1_load , requires_grad= True )\n",
    "opt = optim.Adam([data_1])\n",
    "#data_1 = data_1_load.detach()\n",
    "#print(data_1.data)\n",
    "for p in range(0,20000):\n",
    "    opt.zero_grad()\n",
    "    output_1 = model(data_1)\n",
    "    loss_t = F.cross_entropy(output_1, target)\n",
    "    loss_t.backward()\n",
    "    opt = optim.Adam([data_1])\n",
    "    opt.step()\n",
    "    # to initial interval start\n",
    "    with torch.no_grad():\n",
    "        for i in range(data_1.shape[2]):\n",
    "            for j in range(data_1.shape[3]):\n",
    "                if data_1[0][0][i][j] < data_1_load.min().item():\n",
    "                    data_1[0][0][i][j] = data_1_load.min().item()\n",
    "                if data_1[0][0][i][j] > data_1_load.max().item():\n",
    "                    data_1[0][0][i][j] = data_1_load.max().item()\n",
    "    # to initial interval stop\n",
    "    if p % 50 == 0:\n",
    "        plot_mnist(data_1.data.numpy(), (5, 10))\n",
    "        print(loss_t.data.item())\n",
    "plot_mnist(data_1.data.numpy(), (5, 10))"
   ]
  },
  {
   "cell_type": "code",
   "execution_count": 197,
   "metadata": {},
   "outputs": [
    {
     "name": "stdout",
     "output_type": "stream",
     "text": [
      "-0.4243091940879822\n",
      "2.821486711502075\n"
     ]
    }
   ],
   "source": [
    "print(data_1.min().item())\n",
    "print(data_1.max().item())"
   ]
  },
  {
   "cell_type": "code",
   "execution_count": 198,
   "metadata": {},
   "outputs": [
    {
     "name": "stdout",
     "output_type": "stream",
     "text": [
      "tensor([[-10.6911,  -5.0694,  -4.5503,  -5.8495,  11.7259,  -4.6476,  -6.9353,\n",
      "          -4.2481, -12.5311,  -4.0874]], grad_fn=<AddmmBackward>)\n"
     ]
    }
   ],
   "source": [
    "# Проверка, что это все таки та цифра, которую ожидали :)\n",
    "output_1 = model(data_1)\n",
    "print(output_1)"
   ]
  },
  {
   "cell_type": "code",
   "execution_count": null,
   "metadata": {},
   "outputs": [],
   "source": []
  }
 ],
 "metadata": {
  "kernelspec": {
   "display_name": "Python 3",
   "language": "python",
   "name": "python3"
  },
  "language_info": {
   "codemirror_mode": {
    "name": "ipython",
    "version": 3
   },
   "file_extension": ".py",
   "mimetype": "text/x-python",
   "name": "python",
   "nbconvert_exporter": "python",
   "pygments_lexer": "ipython3",
   "version": "3.6.3"
  }
 },
 "nbformat": 4,
 "nbformat_minor": 2
}
